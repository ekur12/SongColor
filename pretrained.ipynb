{
 "cells": [
  {
   "cell_type": "markdown",
   "id": "30a29535",
   "metadata": {},
   "source": [
    "# MODEL TRAINING SETUP"
   ]
  },
  {
   "cell_type": "code",
   "execution_count": 30,
   "id": "ae6b2b6e",
   "metadata": {},
   "outputs": [],
   "source": [
    "import requests\n",
    "from pydub import AudioSegment\n",
    "import os\n",
    "import pandas as pd\n",
    "from joblib import Parallel, delayed\n",
    "# from multiprocessing import Manager, Lock\n",
    "from tqdm.auto import tqdm\n",
    "import keras\n",
    "from keras import layers"
   ]
  },
  {
   "cell_type": "code",
   "execution_count": 2,
   "id": "ed520125",
   "metadata": {},
   "outputs": [
    {
     "name": "stderr",
     "output_type": "stream",
     "text": [
      "/Users/lilhoodie/Libraries/anaconda3/envs/musicnn_env/lib/python3.10/site-packages/librosa/util/files.py:10: UserWarning: pkg_resources is deprecated as an API. See https://setuptools.pypa.io/en/latest/pkg_resources.html. The pkg_resources package is slated for removal as early as 2025-11-30. Refrain from using this package or pin to Setuptools<81.\n",
      "  from pkg_resources import resource_filename\n"
     ]
    }
   ],
   "source": [
    "import tensorflow as tf\n",
    "musicnn = tf.keras.models.load_model('./musicnn_keras/keras_checkpoints/MTT_musicnn.h5')\n",
    "from musicnn_keras.extractor import extractor"
   ]
  },
  {
   "cell_type": "code",
   "execution_count": 16,
   "id": "6b17a286",
   "metadata": {},
   "outputs": [],
   "source": [
    "def get_embedding_musicnn(filename):\n",
    "    taggram, tags, features = extractor(filename, model='MTT_musicnn', extract_features = True)\n",
    "    return taggram, tags, features"
   ]
  },
  {
   "cell_type": "code",
   "execution_count": 45,
   "id": "b2a44d3e",
   "metadata": {},
   "outputs": [
    {
     "name": "stdout",
     "output_type": "stream",
     "text": [
      "/Users/lilhoodie/Documents/Personal Projects/SongColor/DEAM/DEAM_audio/MEMD_audio/746.mp3\n"
     ]
    }
   ],
   "source": [
    "directory_path = '/Users/lilhoodie/Documents/Personal Projects/SongColor/DEAM/DEAM_audio/MEMD_audio'\n",
    "file_names = [directory_path + '/' + file for file in os.listdir(directory_path) if file.endswith('.mp3')]\n",
    "print(file_names[0])"
   ]
  },
  {
   "cell_type": "code",
   "execution_count": 46,
   "id": "0e317dd9",
   "metadata": {},
   "outputs": [
    {
     "name": "stdout",
     "output_type": "stream",
     "text": [
      "Computing spectrogram (w/ librosa) and tags (w/ tensorflow).. [[ 0.29161263  0.04805697  0.9511344  ... -0.02580383  0.6288585\n",
      "   0.5623342 ]\n",
      " [-0.07995161  0.22223532  0.88537437 ...  0.12905498  0.8084418\n",
      "   0.27999815]\n",
      " [ 0.12803604  0.7099006   0.48177063 ...  0.2515345   0.8178722\n",
      "   0.42031375]\n",
      " ...\n",
      " [ 1.008759    0.43284023 -0.09226304 ... -0.02580383  0.8939617\n",
      "  -0.1534048 ]\n",
      " [ 1.1277146   0.08653146  0.3591339  ...  0.45214477  0.82271177\n",
      "  -0.1534048 ]\n",
      " [ 0.2842933   0.47784856  0.34291032 ... -0.02580383  0.76792645\n",
      "  -0.09152679]]\n"
     ]
    }
   ],
   "source": [
    "_, _, features = get_embedding_musicnn(file_names[0])\n",
    "print(features['penultimate'])"
   ]
  },
  {
   "cell_type": "code",
   "execution_count": 18,
   "id": "4bb4cddd",
   "metadata": {},
   "outputs": [
    {
     "name": "stdout",
     "output_type": "stream",
     "text": [
      "1801\n"
     ]
    }
   ],
   "source": [
    "print(len(file_names))"
   ]
  },
  {
   "cell_type": "code",
   "execution_count": null,
   "id": "9a66a10a",
   "metadata": {},
   "outputs": [],
   "source": [
    "import time"
   ]
  },
  {
   "cell_type": "code",
   "execution_count": 47,
   "id": "a7ab0b18",
   "metadata": {},
   "outputs": [
    {
     "name": "stdout",
     "output_type": "stream",
     "text": [
      "['/Users/lilhoodie/Documents/Personal Projects/SongColor/DEAM/DEAM_audio/MEMD_audio/746.mp3', '/Users/lilhoodie/Documents/Personal Projects/SongColor/DEAM/DEAM_audio/MEMD_audio/1588.mp3', '/Users/lilhoodie/Documents/Personal Projects/SongColor/DEAM/DEAM_audio/MEMD_audio/1563.mp3', '/Users/lilhoodie/Documents/Personal Projects/SongColor/DEAM/DEAM_audio/MEMD_audio/1205.mp3', '/Users/lilhoodie/Documents/Personal Projects/SongColor/DEAM/DEAM_audio/MEMD_audio/791.mp3', '/Users/lilhoodie/Documents/Personal Projects/SongColor/DEAM/DEAM_audio/MEMD_audio/949.mp3', '/Users/lilhoodie/Documents/Personal Projects/SongColor/DEAM/DEAM_audio/MEMD_audio/1211.mp3', '/Users/lilhoodie/Documents/Personal Projects/SongColor/DEAM/DEAM_audio/MEMD_audio/1577.mp3', '/Users/lilhoodie/Documents/Personal Projects/SongColor/DEAM/DEAM_audio/MEMD_audio/2056.mp3', '/Users/lilhoodie/Documents/Personal Projects/SongColor/DEAM/DEAM_audio/MEMD_audio/1239.mp3', '/Users/lilhoodie/Documents/Personal Projects/SongColor/DEAM/DEAM_audio/MEMD_audio/961.mp3', '/Users/lilhoodie/Documents/Personal Projects/SongColor/DEAM/DEAM_audio/MEMD_audio/2042.mp3', '/Users/lilhoodie/Documents/Personal Projects/SongColor/DEAM/DEAM_audio/MEMD_audio/550.mp3', '/Users/lilhoodie/Documents/Personal Projects/SongColor/DEAM/DEAM_audio/MEMD_audio/236.mp3', '/Users/lilhoodie/Documents/Personal Projects/SongColor/DEAM/DEAM_audio/MEMD_audio/222.mp3', '/Users/lilhoodie/Documents/Personal Projects/SongColor/DEAM/DEAM_audio/MEMD_audio/544.mp3', '/Users/lilhoodie/Documents/Personal Projects/SongColor/DEAM/DEAM_audio/MEMD_audio/1946.mp3', '/Users/lilhoodie/Documents/Personal Projects/SongColor/DEAM/DEAM_audio/MEMD_audio/1952.mp3', '/Users/lilhoodie/Documents/Personal Projects/SongColor/DEAM/DEAM_audio/MEMD_audio/1007.mp3', '/Users/lilhoodie/Documents/Personal Projects/SongColor/DEAM/DEAM_audio/MEMD_audio/1761.mp3', '/Users/lilhoodie/Documents/Personal Projects/SongColor/DEAM/DEAM_audio/MEMD_audio/1775.mp3', '/Users/lilhoodie/Documents/Personal Projects/SongColor/DEAM/DEAM_audio/MEMD_audio/1013.mp3', '/Users/lilhoodie/Documents/Personal Projects/SongColor/DEAM/DEAM_audio/MEMD_audio/1985.mp3', '/Users/lilhoodie/Documents/Personal Projects/SongColor/DEAM/DEAM_audio/MEMD_audio/1749.mp3', '/Users/lilhoodie/Documents/Personal Projects/SongColor/DEAM/DEAM_audio/MEMD_audio/1991.mp3', '/Users/lilhoodie/Documents/Personal Projects/SongColor/DEAM/DEAM_audio/MEMD_audio/342.mp3', '/Users/lilhoodie/Documents/Personal Projects/SongColor/DEAM/DEAM_audio/MEMD_audio/356.mp3', '/Users/lilhoodie/Documents/Personal Projects/SongColor/DEAM/DEAM_audio/MEMD_audio/430.mp3', '/Users/lilhoodie/Documents/Personal Projects/SongColor/DEAM/DEAM_audio/MEMD_audio/1832.mp3', '/Users/lilhoodie/Documents/Personal Projects/SongColor/DEAM/DEAM_audio/MEMD_audio/1826.mp3', '/Users/lilhoodie/Documents/Personal Projects/SongColor/DEAM/DEAM_audio/MEMD_audio/1198.mp3', '/Users/lilhoodie/Documents/Personal Projects/SongColor/DEAM/DEAM_audio/MEMD_audio/1173.mp3']\n"
     ]
    }
   ],
   "source": [
    "batch_size = 32\n",
    "batches = [file_names[i:i+batch_size] for i in range(0, len(file_names), batch_size)]\n",
    "print(batches[0])\n"
   ]
  },
  {
   "cell_type": "code",
   "execution_count": 50,
   "id": "75a0cdcc",
   "metadata": {},
   "outputs": [
    {
     "name": "stderr",
     "output_type": "stream",
     "text": [
      "/Users/lilhoodie/Libraries/anaconda3/envs/musicnn_env/lib/python3.10/site-packages/librosa/util/files.py:10: UserWarning: pkg_resources is deprecated as an API. See https://setuptools.pypa.io/en/latest/pkg_resources.html. The pkg_resources package is slated for removal as early as 2025-11-30. Refrain from using this package or pin to Setuptools<81.\n",
      "  from pkg_resources import resource_filename\n",
      "/Users/lilhoodie/Libraries/anaconda3/envs/musicnn_env/lib/python3.10/site-packages/librosa/util/files.py:10: UserWarning: pkg_resources is deprecated as an API. See https://setuptools.pypa.io/en/latest/pkg_resources.html. The pkg_resources package is slated for removal as early as 2025-11-30. Refrain from using this package or pin to Setuptools<81.\n",
      "  from pkg_resources import resource_filename\n",
      "/Users/lilhoodie/Libraries/anaconda3/envs/musicnn_env/lib/python3.10/site-packages/librosa/util/files.py:10: UserWarning: pkg_resources is deprecated as an API. See https://setuptools.pypa.io/en/latest/pkg_resources.html. The pkg_resources package is slated for removal as early as 2025-11-30. Refrain from using this package or pin to Setuptools<81.\n",
      "  from pkg_resources import resource_filename\n",
      "/Users/lilhoodie/Libraries/anaconda3/envs/musicnn_env/lib/python3.10/site-packages/librosa/util/files.py:10: UserWarning: pkg_resources is deprecated as an API. See https://setuptools.pypa.io/en/latest/pkg_resources.html. The pkg_resources package is slated for removal as early as 2025-11-30. Refrain from using this package or pin to Setuptools<81.\n",
      "  from pkg_resources import resource_filename\n"
     ]
    },
    {
     "name": "stdout",
     "output_type": "stream",
     "text": [
      "Computing spectrogram (w/ librosa) and tags (w/ tensorflow).. Computing spectrogram (w/ librosa) and tags (w/ tensorflow).. Computing spectrogram (w/ librosa) and tags (w/ tensorflow).. Computing spectrogram (w/ librosa) and tags (w/ tensorflow).. "
     ]
    },
    {
     "name": "stderr",
     "output_type": "stream",
     "text": [
      "WARNING:tensorflow:5 out of the last 5 calls to <function Model.make_predict_function.<locals>.predict_function at 0x16ff70670> triggered tf.function retracing. Tracing is expensive and the excessive number of tracings could be due to (1) creating @tf.function repeatedly in a loop, (2) passing tensors with different shapes, (3) passing Python objects instead of tensors. For (1), please define your @tf.function outside of the loop. For (2), @tf.function has reduce_retracing=True option that can avoid unnecessary retracing. For (3), please refer to https://www.tensorflow.org/guide/function#controlling_retracing and https://www.tensorflow.org/api_docs/python/tf/function for  more details.\n",
      "WARNING:tensorflow:6 out of the last 6 calls to <function Model.make_predict_function.<locals>.predict_function at 0x16ff70e50> triggered tf.function retracing. Tracing is expensive and the excessive number of tracings could be due to (1) creating @tf.function repeatedly in a loop, (2) passing tensors with different shapes, (3) passing Python objects instead of tensors. For (1), please define your @tf.function outside of the loop. For (2), @tf.function has reduce_retracing=True option that can avoid unnecessary retracing. For (3), please refer to https://www.tensorflow.org/guide/function#controlling_retracing and https://www.tensorflow.org/api_docs/python/tf/function for  more details.\n"
     ]
    },
    {
     "name": "stdout",
     "output_type": "stream",
     "text": [
      "Computing spectrogram (w/ librosa) and tags (w/ tensorflow).. "
     ]
    },
    {
     "name": "stderr",
     "output_type": "stream",
     "text": [
      "WARNING:tensorflow:5 out of the last 5 calls to <function Model.make_predict_function.<locals>.predict_function at 0x1746e4670> triggered tf.function retracing. Tracing is expensive and the excessive number of tracings could be due to (1) creating @tf.function repeatedly in a loop, (2) passing tensors with different shapes, (3) passing Python objects instead of tensors. For (1), please define your @tf.function outside of the loop. For (2), @tf.function has reduce_retracing=True option that can avoid unnecessary retracing. For (3), please refer to https://www.tensorflow.org/guide/function#controlling_retracing and https://www.tensorflow.org/api_docs/python/tf/function for  more details.\n",
      "WARNING:tensorflow:6 out of the last 6 calls to <function Model.make_predict_function.<locals>.predict_function at 0x1746e4e50> triggered tf.function retracing. Tracing is expensive and the excessive number of tracings could be due to (1) creating @tf.function repeatedly in a loop, (2) passing tensors with different shapes, (3) passing Python objects instead of tensors. For (1), please define your @tf.function outside of the loop. For (2), @tf.function has reduce_retracing=True option that can avoid unnecessary retracing. For (3), please refer to https://www.tensorflow.org/guide/function#controlling_retracing and https://www.tensorflow.org/api_docs/python/tf/function for  more details.\n",
      "WARNING:tensorflow:5 out of the last 5 calls to <function Model.make_predict_function.<locals>.predict_function at 0x1748e4670> triggered tf.function retracing. Tracing is expensive and the excessive number of tracings could be due to (1) creating @tf.function repeatedly in a loop, (2) passing tensors with different shapes, (3) passing Python objects instead of tensors. For (1), please define your @tf.function outside of the loop. For (2), @tf.function has reduce_retracing=True option that can avoid unnecessary retracing. For (3), please refer to https://www.tensorflow.org/guide/function#controlling_retracing and https://www.tensorflow.org/api_docs/python/tf/function for  more details.\n",
      "WARNING:tensorflow:6 out of the last 6 calls to <function Model.make_predict_function.<locals>.predict_function at 0x1748e4e50> triggered tf.function retracing. Tracing is expensive and the excessive number of tracings could be due to (1) creating @tf.function repeatedly in a loop, (2) passing tensors with different shapes, (3) passing Python objects instead of tensors. For (1), please define your @tf.function outside of the loop. For (2), @tf.function has reduce_retracing=True option that can avoid unnecessary retracing. For (3), please refer to https://www.tensorflow.org/guide/function#controlling_retracing and https://www.tensorflow.org/api_docs/python/tf/function for  more details.\n",
      "WARNING:tensorflow:5 out of the last 5 calls to <function Model.make_predict_function.<locals>.predict_function at 0x170fe4670> triggered tf.function retracing. Tracing is expensive and the excessive number of tracings could be due to (1) creating @tf.function repeatedly in a loop, (2) passing tensors with different shapes, (3) passing Python objects instead of tensors. For (1), please define your @tf.function outside of the loop. For (2), @tf.function has reduce_retracing=True option that can avoid unnecessary retracing. For (3), please refer to https://www.tensorflow.org/guide/function#controlling_retracing and https://www.tensorflow.org/api_docs/python/tf/function for  more details.\n"
     ]
    },
    {
     "name": "stdout",
     "output_type": "stream",
     "text": [
      "Computing spectrogram (w/ librosa) and tags (w/ tensorflow).. "
     ]
    },
    {
     "name": "stderr",
     "output_type": "stream",
     "text": [
      "WARNING:tensorflow:6 out of the last 6 calls to <function Model.make_predict_function.<locals>.predict_function at 0x170fe4e50> triggered tf.function retracing. Tracing is expensive and the excessive number of tracings could be due to (1) creating @tf.function repeatedly in a loop, (2) passing tensors with different shapes, (3) passing Python objects instead of tensors. For (1), please define your @tf.function outside of the loop. For (2), @tf.function has reduce_retracing=True option that can avoid unnecessary retracing. For (3), please refer to https://www.tensorflow.org/guide/function#controlling_retracing and https://www.tensorflow.org/api_docs/python/tf/function for  more details.\n"
     ]
    },
    {
     "name": "stdout",
     "output_type": "stream",
     "text": [
      "Computing spectrogram (w/ librosa) and tags (w/ tensorflow).. Computing spectrogram (w/ librosa) and tags (w/ tensorflow).. Computing spectrogram (w/ librosa) and tags (w/ tensorflow).. Computing spectrogram (w/ librosa) and tags (w/ tensorflow).. Computing spectrogram (w/ librosa) and tags (w/ tensorflow).. Computing spectrogram (w/ librosa) and tags (w/ tensorflow).. Computing spectrogram (w/ librosa) and tags (w/ tensorflow).. Computing spectrogram (w/ librosa) and tags (w/ tensorflow).. Computing spectrogram (w/ librosa) and tags (w/ tensorflow).. Computing spectrogram (w/ librosa) and tags (w/ tensorflow).. Computing spectrogram (w/ librosa) and tags (w/ tensorflow).. Computing spectrogram (w/ librosa) and tags (w/ tensorflow).. Computing spectrogram (w/ librosa) and tags (w/ tensorflow).. Computing spectrogram (w/ librosa) and tags (w/ tensorflow).. Computing spectrogram (w/ librosa) and tags (w/ tensorflow).. Computing spectrogram (w/ librosa) and tags (w/ tensorflow).. Computing spectrogram (w/ librosa) and tags (w/ tensorflow).. Computing spectrogram (w/ librosa) and tags (w/ tensorflow).. Computing spectrogram (w/ librosa) and tags (w/ tensorflow).. Computing spectrogram (w/ librosa) and tags (w/ tensorflow).. Computing spectrogram (w/ librosa) and tags (w/ tensorflow).. Computing spectrogram (w/ librosa) and tags (w/ tensorflow).. Computing spectrogram (w/ librosa) and tags (w/ tensorflow).. Computing spectrogram (w/ librosa) and tags (w/ tensorflow).. Computing spectrogram (w/ librosa) and tags (w/ tensorflow).. Computing spectrogram (w/ librosa) and tags (w/ tensorflow).. Computing spectrogram (w/ librosa) and tags (w/ tensorflow).. Computing spectrogram (w/ librosa) and tags (w/ tensorflow).. Computing spectrogram (w/ librosa) and tags (w/ tensorflow).. Computing spectrogram (w/ librosa) and tags (w/ tensorflow).. Computing spectrogram (w/ librosa) and tags (w/ tensorflow).. Computing spectrogram (w/ librosa) and tags (w/ tensorflow).. Computing spectrogram (w/ librosa) and tags (w/ tensorflow).. Computing spectrogram (w/ librosa) and tags (w/ tensorflow).. Computing spectrogram (w/ librosa) and tags (w/ tensorflow).. Computing spectrogram (w/ librosa) and tags (w/ tensorflow).. Computing spectrogram (w/ librosa) and tags (w/ tensorflow).. Computing spectrogram (w/ librosa) and tags (w/ tensorflow).. Computing spectrogram (w/ librosa) and tags (w/ tensorflow).. Computing spectrogram (w/ librosa) and tags (w/ tensorflow).. Computing spectrogram (w/ librosa) and tags (w/ tensorflow).. Computing spectrogram (w/ librosa) and tags (w/ tensorflow).. Computing spectrogram (w/ librosa) and tags (w/ tensorflow).. Computing spectrogram (w/ librosa) and tags (w/ tensorflow).. Computing spectrogram (w/ librosa) and tags (w/ tensorflow).. Computing spectrogram (w/ librosa) and tags (w/ tensorflow).. Computing spectrogram (w/ librosa) and tags (w/ tensorflow).. Computing spectrogram (w/ librosa) and tags (w/ tensorflow).. Computing spectrogram (w/ librosa) and tags (w/ tensorflow).. Computing spectrogram (w/ librosa) and tags (w/ tensorflow).. Computing spectrogram (w/ librosa) and tags (w/ tensorflow).. Computing spectrogram (w/ librosa) and tags (w/ tensorflow).. Computing spectrogram (w/ librosa) and tags (w/ tensorflow).. Computing spectrogram (w/ librosa) and tags (w/ tensorflow).. Computing spectrogram (w/ librosa) and tags (w/ tensorflow).. Computing spectrogram (w/ librosa) and tags (w/ tensorflow).. Computing spectrogram (w/ librosa) and tags (w/ tensorflow).. Computing spectrogram (w/ librosa) and tags (w/ tensorflow).. Computing spectrogram (w/ librosa) and tags (w/ tensorflow).. Computing spectrogram (w/ librosa) and tags (w/ tensorflow).. Computing spectrogram (w/ librosa) and tags (w/ tensorflow).. Computing spectrogram (w/ librosa) and tags (w/ tensorflow).. Computing spectrogram (w/ librosa) and tags (w/ tensorflow).. Computing spectrogram (w/ librosa) and tags (w/ tensorflow).. Computing spectrogram (w/ librosa) and tags (w/ tensorflow).. Computing spectrogram (w/ librosa) and tags (w/ tensorflow).. Computing spectrogram (w/ librosa) and tags (w/ tensorflow).. Computing spectrogram (w/ librosa) and tags (w/ tensorflow).. Computing spectrogram (w/ librosa) and tags (w/ tensorflow).. Computing spectrogram (w/ librosa) and tags (w/ tensorflow).. Computing spectrogram (w/ librosa) and tags (w/ tensorflow).. Computing spectrogram (w/ librosa) and tags (w/ tensorflow).. Computing spectrogram (w/ librosa) and tags (w/ tensorflow).. Computing spectrogram (w/ librosa) and tags (w/ tensorflow).. Computing spectrogram (w/ librosa) and tags (w/ tensorflow).. Computing spectrogram (w/ librosa) and tags (w/ tensorflow).. Computing spectrogram (w/ librosa) and tags (w/ tensorflow).. Computing spectrogram (w/ librosa) and tags (w/ tensorflow).. Computing spectrogram (w/ librosa) and tags (w/ tensorflow).. Computing spectrogram (w/ librosa) and tags (w/ tensorflow).. Computing spectrogram (w/ librosa) and tags (w/ tensorflow).. Computing spectrogram (w/ librosa) and tags (w/ tensorflow).. Computing spectrogram (w/ librosa) and tags (w/ tensorflow).. Computing spectrogram (w/ librosa) and tags (w/ tensorflow).. Computing spectrogram (w/ librosa) and tags (w/ tensorflow).. Computing spectrogram (w/ librosa) and tags (w/ tensorflow).. Computing spectrogram (w/ librosa) and tags (w/ tensorflow).. Computing spectrogram (w/ librosa) and tags (w/ tensorflow).. Computing spectrogram (w/ librosa) and tags (w/ tensorflow).. Computing spectrogram (w/ librosa) and tags (w/ tensorflow).. Computing spectrogram (w/ librosa) and tags (w/ tensorflow).. Computing spectrogram (w/ librosa) and tags (w/ tensorflow).. Computing spectrogram (w/ librosa) and tags (w/ tensorflow).. Computing spectrogram (w/ librosa) and tags (w/ tensorflow).. Computing spectrogram (w/ librosa) and tags (w/ tensorflow).. Computing spectrogram (w/ librosa) and tags (w/ tensorflow).. Computing spectrogram (w/ librosa) and tags (w/ tensorflow).. Computing spectrogram (w/ librosa) and tags (w/ tensorflow).. Computing spectrogram (w/ librosa) and tags (w/ tensorflow).. Computing spectrogram (w/ librosa) and tags (w/ tensorflow).. Computing spectrogram (w/ librosa) and tags (w/ tensorflow).. Computing spectrogram (w/ librosa) and tags (w/ tensorflow).. Computing spectrogram (w/ librosa) and tags (w/ tensorflow).. Computing spectrogram (w/ librosa) and tags (w/ tensorflow).. Computing spectrogram (w/ librosa) and tags (w/ tensorflow).. Computing spectrogram (w/ librosa) and tags (w/ tensorflow).. Computing spectrogram (w/ librosa) and tags (w/ tensorflow).. Computing spectrogram (w/ librosa) and tags (w/ tensorflow).. Computing spectrogram (w/ librosa) and tags (w/ tensorflow).. Computing spectrogram (w/ librosa) and tags (w/ tensorflow).. Computing spectrogram (w/ librosa) and tags (w/ tensorflow).. "
     ]
    },
    {
     "name": "stderr",
     "output_type": "stream",
     "text": []
    },
    {
     "name": "stdout",
     "output_type": "stream",
     "text": [
      "Computing spectrogram (w/ librosa) and tags (w/ tensorflow).. Computing spectrogram (w/ librosa) and tags (w/ tensorflow).. Computing spectrogram (w/ librosa) and tags (w/ tensorflow).. Computing spectrogram (w/ librosa) and tags (w/ tensorflow).. Computing spectrogram (w/ librosa) and tags (w/ tensorflow).. Computing spectrogram (w/ librosa) and tags (w/ tensorflow).. Computing spectrogram (w/ librosa) and tags (w/ tensorflow).. Computing spectrogram (w/ librosa) and tags (w/ tensorflow).. Computing spectrogram (w/ librosa) and tags (w/ tensorflow).. Computing spectrogram (w/ librosa) and tags (w/ tensorflow).. Computing spectrogram (w/ librosa) and tags (w/ tensorflow).. Computing spectrogram (w/ librosa) and tags (w/ tensorflow).. Computing spectrogram (w/ librosa) and tags (w/ tensorflow).. Computing spectrogram (w/ librosa) and tags (w/ tensorflow).. Computing spectrogram (w/ librosa) and tags (w/ tensorflow).. Computing spectrogram (w/ librosa) and tags (w/ tensorflow).. Computing spectrogram (w/ librosa) and tags (w/ tensorflow).. Computing spectrogram (w/ librosa) and tags (w/ tensorflow).. Computing spectrogram (w/ librosa) and tags (w/ tensorflow).. Computing spectrogram (w/ librosa) and tags (w/ tensorflow).. Computing spectrogram (w/ librosa) and tags (w/ tensorflow).. Computing spectrogram (w/ librosa) and tags (w/ tensorflow).. Computing spectrogram (w/ librosa) and tags (w/ tensorflow).. Computing spectrogram (w/ librosa) and tags (w/ tensorflow).. Computing spectrogram (w/ librosa) and tags (w/ tensorflow).. Computing spectrogram (w/ librosa) and tags (w/ tensorflow).. Computing spectrogram (w/ librosa) and tags (w/ tensorflow).. Computing spectrogram (w/ librosa) and tags (w/ tensorflow).. Computing spectrogram (w/ librosa) and tags (w/ tensorflow).. Computing spectrogram (w/ librosa) and tags (w/ tensorflow).. Computing spectrogram (w/ librosa) and tags (w/ tensorflow).. Computing spectrogram (w/ librosa) and tags (w/ tensorflow).. Computing spectrogram (w/ librosa) and tags (w/ tensorflow).. Computing spectrogram (w/ librosa) and tags (w/ tensorflow).. Computing spectrogram (w/ librosa) and tags (w/ tensorflow).. Computing spectrogram (w/ librosa) and tags (w/ tensorflow).. Computing spectrogram (w/ librosa) and tags (w/ tensorflow).. Computing spectrogram (w/ librosa) and tags (w/ tensorflow).. Computing spectrogram (w/ librosa) and tags (w/ tensorflow).. Computing spectrogram (w/ librosa) and tags (w/ tensorflow).. Computing spectrogram (w/ librosa) and tags (w/ tensorflow).. Computing spectrogram (w/ librosa) and tags (w/ tensorflow).. Computing spectrogram (w/ librosa) and tags (w/ tensorflow).. Computing spectrogram (w/ librosa) and tags (w/ tensorflow).. Computing spectrogram (w/ librosa) and tags (w/ tensorflow).. Computing spectrogram (w/ librosa) and tags (w/ tensorflow).. Computing spectrogram (w/ librosa) and tags (w/ tensorflow).. Computing spectrogram (w/ librosa) and tags (w/ tensorflow).. Computing spectrogram (w/ librosa) and tags (w/ tensorflow).. Computing spectrogram (w/ librosa) and tags (w/ tensorflow).. Computing spectrogram (w/ librosa) and tags (w/ tensorflow).. Computing spectrogram (w/ librosa) and tags (w/ tensorflow).. Computing spectrogram (w/ librosa) and tags (w/ tensorflow).. Computing spectrogram (w/ librosa) and tags (w/ tensorflow).. Computing spectrogram (w/ librosa) and tags (w/ tensorflow).. Computing spectrogram (w/ librosa) and tags (w/ tensorflow).. Computing spectrogram (w/ librosa) and tags (w/ tensorflow).. Computing spectrogram (w/ librosa) and tags (w/ tensorflow).. Computing spectrogram (w/ librosa) and tags (w/ tensorflow).. Computing spectrogram (w/ librosa) and tags (w/ tensorflow).. Computing spectrogram (w/ librosa) and tags (w/ tensorflow).. Computing spectrogram (w/ librosa) and tags (w/ tensorflow).. Computing spectrogram (w/ librosa) and tags (w/ tensorflow).. Computing spectrogram (w/ librosa) and tags (w/ tensorflow).. Computing spectrogram (w/ librosa) and tags (w/ tensorflow).. Computing spectrogram (w/ librosa) and tags (w/ tensorflow).. Computing spectrogram (w/ librosa) and tags (w/ tensorflow).. Computing spectrogram (w/ librosa) and tags (w/ tensorflow).. Computing spectrogram (w/ librosa) and tags (w/ tensorflow).. Computing spectrogram (w/ librosa) and tags (w/ tensorflow).. Computing spectrogram (w/ librosa) and tags (w/ tensorflow).. Computing spectrogram (w/ librosa) and tags (w/ tensorflow).. Computing spectrogram (w/ librosa) and tags (w/ tensorflow).. Computing spectrogram (w/ librosa) and tags (w/ tensorflow).. Computing spectrogram (w/ librosa) and tags (w/ tensorflow).. Computing spectrogram (w/ librosa) and tags (w/ tensorflow).. Computing spectrogram (w/ librosa) and tags (w/ tensorflow).. Computing spectrogram (w/ librosa) and tags (w/ tensorflow).. Computing spectrogram (w/ librosa) and tags (w/ tensorflow).. Computing spectrogram (w/ librosa) and tags (w/ tensorflow).. Computing spectrogram (w/ librosa) and tags (w/ tensorflow).. Computing spectrogram (w/ librosa) and tags (w/ tensorflow).. Computing spectrogram (w/ librosa) and tags (w/ tensorflow).. Computing spectrogram (w/ librosa) and tags (w/ tensorflow).. Computing spectrogram (w/ librosa) and tags (w/ tensorflow).. Computing spectrogram (w/ librosa) and tags (w/ tensorflow).. Computing spectrogram (w/ librosa) and tags (w/ tensorflow).. Computing spectrogram (w/ librosa) and tags (w/ tensorflow).. Computing spectrogram (w/ librosa) and tags (w/ tensorflow).. Computing spectrogram (w/ librosa) and tags (w/ tensorflow).. Computing spectrogram (w/ librosa) and tags (w/ tensorflow).. Computing spectrogram (w/ librosa) and tags (w/ tensorflow).. Computing spectrogram (w/ librosa) and tags (w/ tensorflow).. Computing spectrogram (w/ librosa) and tags (w/ tensorflow).. Computing spectrogram (w/ librosa) and tags (w/ tensorflow).. Computing spectrogram (w/ librosa) and tags (w/ tensorflow).. Computing spectrogram (w/ librosa) and tags (w/ tensorflow).. Computing spectrogram (w/ librosa) and tags (w/ tensorflow).. Computing spectrogram (w/ librosa) and tags (w/ tensorflow).. Computing spectrogram (w/ librosa) and tags (w/ tensorflow).. Computing spectrogram (w/ librosa) and tags (w/ tensorflow).. Computing spectrogram (w/ librosa) and tags (w/ tensorflow).. Computing spectrogram (w/ librosa) and tags (w/ tensorflow).. Computing spectrogram (w/ librosa) and tags (w/ tensorflow).. Computing spectrogram (w/ librosa) and tags (w/ tensorflow).. Computing spectrogram (w/ librosa) and tags (w/ tensorflow).. Computing spectrogram (w/ librosa) and tags (w/ tensorflow).. Computing spectrogram (w/ librosa) and tags (w/ tensorflow).. Computing spectrogram (w/ librosa) and tags (w/ tensorflow).. Computing spectrogram (w/ librosa) and tags (w/ tensorflow).. Computing spectrogram (w/ librosa) and tags (w/ tensorflow).. Computing spectrogram (w/ librosa) and tags (w/ tensorflow).. Computing spectrogram (w/ librosa) and tags (w/ tensorflow).. Computing spectrogram (w/ librosa) and tags (w/ tensorflow).. Computing spectrogram (w/ librosa) and tags (w/ tensorflow).. Computing spectrogram (w/ librosa) and tags (w/ tensorflow).. Computing spectrogram (w/ librosa) and tags (w/ tensorflow).. Computing spectrogram (w/ librosa) and tags (w/ tensorflow).. Computing spectrogram (w/ librosa) and tags (w/ tensorflow).. "
     ]
    },
    {
     "name": "stderr",
     "output_type": "stream",
     "text": []
    },
    {
     "name": "stdout",
     "output_type": "stream",
     "text": [
      "Computing spectrogram (w/ librosa) and tags (w/ tensorflow).. Computing spectrogram (w/ librosa) and tags (w/ tensorflow).. Computing spectrogram (w/ librosa) and tags (w/ tensorflow).. Computing spectrogram (w/ librosa) and tags (w/ tensorflow).. Computing spectrogram (w/ librosa) and tags (w/ tensorflow).. Computing spectrogram (w/ librosa) and tags (w/ tensorflow).. Computing spectrogram (w/ librosa) and tags (w/ tensorflow).. Computing spectrogram (w/ librosa) and tags (w/ tensorflow).. Computing spectrogram (w/ librosa) and tags (w/ tensorflow).. Computing spectrogram (w/ librosa) and tags (w/ tensorflow).. Computing spectrogram (w/ librosa) and tags (w/ tensorflow).. Computing spectrogram (w/ librosa) and tags (w/ tensorflow).. Computing spectrogram (w/ librosa) and tags (w/ tensorflow).. Computing spectrogram (w/ librosa) and tags (w/ tensorflow).. Computing spectrogram (w/ librosa) and tags (w/ tensorflow).. Computing spectrogram (w/ librosa) and tags (w/ tensorflow).. Computing spectrogram (w/ librosa) and tags (w/ tensorflow).. Computing spectrogram (w/ librosa) and tags (w/ tensorflow).. Computing spectrogram (w/ librosa) and tags (w/ tensorflow).. Computing spectrogram (w/ librosa) and tags (w/ tensorflow).. Computing spectrogram (w/ librosa) and tags (w/ tensorflow).. Computing spectrogram (w/ librosa) and tags (w/ tensorflow).. Computing spectrogram (w/ librosa) and tags (w/ tensorflow).. Computing spectrogram (w/ librosa) and tags (w/ tensorflow).. Computing spectrogram (w/ librosa) and tags (w/ tensorflow).. Computing spectrogram (w/ librosa) and tags (w/ tensorflow).. Computing spectrogram (w/ librosa) and tags (w/ tensorflow).. Computing spectrogram (w/ librosa) and tags (w/ tensorflow).. Computing spectrogram (w/ librosa) and tags (w/ tensorflow).. Computing spectrogram (w/ librosa) and tags (w/ tensorflow).. Computing spectrogram (w/ librosa) and tags (w/ tensorflow).. Computing spectrogram (w/ librosa) and tags (w/ tensorflow).. Computing spectrogram (w/ librosa) and tags (w/ tensorflow).. Computing spectrogram (w/ librosa) and tags (w/ tensorflow).. Computing spectrogram (w/ librosa) and tags (w/ tensorflow).. Computing spectrogram (w/ librosa) and tags (w/ tensorflow).. Computing spectrogram (w/ librosa) and tags (w/ tensorflow).. Computing spectrogram (w/ librosa) and tags (w/ tensorflow).. Computing spectrogram (w/ librosa) and tags (w/ tensorflow).. Computing spectrogram (w/ librosa) and tags (w/ tensorflow).. Computing spectrogram (w/ librosa) and tags (w/ tensorflow).. Computing spectrogram (w/ librosa) and tags (w/ tensorflow).. Computing spectrogram (w/ librosa) and tags (w/ tensorflow).. Computing spectrogram (w/ librosa) and tags (w/ tensorflow).. Computing spectrogram (w/ librosa) and tags (w/ tensorflow).. Computing spectrogram (w/ librosa) and tags (w/ tensorflow).. Computing spectrogram (w/ librosa) and tags (w/ tensorflow).. Computing spectrogram (w/ librosa) and tags (w/ tensorflow).. Computing spectrogram (w/ librosa) and tags (w/ tensorflow).. Computing spectrogram (w/ librosa) and tags (w/ tensorflow).. Computing spectrogram (w/ librosa) and tags (w/ tensorflow).. Computing spectrogram (w/ librosa) and tags (w/ tensorflow).. Computing spectrogram (w/ librosa) and tags (w/ tensorflow).. Computing spectrogram (w/ librosa) and tags (w/ tensorflow).. Computing spectrogram (w/ librosa) and tags (w/ tensorflow).. Computing spectrogram (w/ librosa) and tags (w/ tensorflow).. Computing spectrogram (w/ librosa) and tags (w/ tensorflow).. Computing spectrogram (w/ librosa) and tags (w/ tensorflow).. Computing spectrogram (w/ librosa) and tags (w/ tensorflow).. Computing spectrogram (w/ librosa) and tags (w/ tensorflow).. Computing spectrogram (w/ librosa) and tags (w/ tensorflow).. Computing spectrogram (w/ librosa) and tags (w/ tensorflow).. Computing spectrogram (w/ librosa) and tags (w/ tensorflow).. Computing spectrogram (w/ librosa) and tags (w/ tensorflow).. Computing spectrogram (w/ librosa) and tags (w/ tensorflow).. Computing spectrogram (w/ librosa) and tags (w/ tensorflow).. Computing spectrogram (w/ librosa) and tags (w/ tensorflow).. Computing spectrogram (w/ librosa) and tags (w/ tensorflow).. Computing spectrogram (w/ librosa) and tags (w/ tensorflow).. Computing spectrogram (w/ librosa) and tags (w/ tensorflow).. Computing spectrogram (w/ librosa) and tags (w/ tensorflow).. Computing spectrogram (w/ librosa) and tags (w/ tensorflow).. Computing spectrogram (w/ librosa) and tags (w/ tensorflow).. Computing spectrogram (w/ librosa) and tags (w/ tensorflow).. Computing spectrogram (w/ librosa) and tags (w/ tensorflow).. Computing spectrogram (w/ librosa) and tags (w/ tensorflow).. Computing spectrogram (w/ librosa) and tags (w/ tensorflow).. Computing spectrogram (w/ librosa) and tags (w/ tensorflow).. Computing spectrogram (w/ librosa) and tags (w/ tensorflow).. Computing spectrogram (w/ librosa) and tags (w/ tensorflow).. Computing spectrogram (w/ librosa) and tags (w/ tensorflow).. Computing spectrogram (w/ librosa) and tags (w/ tensorflow).. Computing spectrogram (w/ librosa) and tags (w/ tensorflow).. Computing spectrogram (w/ librosa) and tags (w/ tensorflow).. Computing spectrogram (w/ librosa) and tags (w/ tensorflow).. Computing spectrogram (w/ librosa) and tags (w/ tensorflow).. Computing spectrogram (w/ librosa) and tags (w/ tensorflow).. Computing spectrogram (w/ librosa) and tags (w/ tensorflow).. Computing spectrogram (w/ librosa) and tags (w/ tensorflow).. Computing spectrogram (w/ librosa) and tags (w/ tensorflow).. Computing spectrogram (w/ librosa) and tags (w/ tensorflow).. Computing spectrogram (w/ librosa) and tags (w/ tensorflow).. Computing spectrogram (w/ librosa) and tags (w/ tensorflow).. Computing spectrogram (w/ librosa) and tags (w/ tensorflow).. Computing spectrogram (w/ librosa) and tags (w/ tensorflow).. Computing spectrogram (w/ librosa) and tags (w/ tensorflow).. Computing spectrogram (w/ librosa) and tags (w/ tensorflow).. Computing spectrogram (w/ librosa) and tags (w/ tensorflow).. Computing spectrogram (w/ librosa) and tags (w/ tensorflow).. Computing spectrogram (w/ librosa) and tags (w/ tensorflow).. Computing spectrogram (w/ librosa) and tags (w/ tensorflow).. Computing spectrogram (w/ librosa) and tags (w/ tensorflow).. Computing spectrogram (w/ librosa) and tags (w/ tensorflow).. Computing spectrogram (w/ librosa) and tags (w/ tensorflow).. Computing spectrogram (w/ librosa) and tags (w/ tensorflow).. Computing spectrogram (w/ librosa) and tags (w/ tensorflow).. Computing spectrogram (w/ librosa) and tags (w/ tensorflow).. Computing spectrogram (w/ librosa) and tags (w/ tensorflow).. Computing spectrogram (w/ librosa) and tags (w/ tensorflow).. Computing spectrogram (w/ librosa) and tags (w/ tensorflow).. Computing spectrogram (w/ librosa) and tags (w/ tensorflow).. Computing spectrogram (w/ librosa) and tags (w/ tensorflow).. Computing spectrogram (w/ librosa) and tags (w/ tensorflow).. Computing spectrogram (w/ librosa) and tags (w/ tensorflow).. Computing spectrogram (w/ librosa) and tags (w/ tensorflow).. Computing spectrogram (w/ librosa) and tags (w/ tensorflow).. Computing spectrogram (w/ librosa) and tags (w/ tensorflow).. Computing spectrogram (w/ librosa) and tags (w/ tensorflow).. Computing spectrogram (w/ librosa) and tags (w/ tensorflow).. Computing spectrogram (w/ librosa) and tags (w/ tensorflow).. Computing spectrogram (w/ librosa) and tags (w/ tensorflow).. Computing spectrogram (w/ librosa) and tags (w/ tensorflow).. Computing spectrogram (w/ librosa) and tags (w/ tensorflow).. Computing spectrogram (w/ librosa) and tags (w/ tensorflow).. Computing spectrogram (w/ librosa) and tags (w/ tensorflow).. Computing spectrogram (w/ librosa) and tags (w/ tensorflow).. Computing spectrogram (w/ librosa) and tags (w/ tensorflow).. "
     ]
    },
    {
     "name": "stderr",
     "output_type": "stream",
     "text": []
    },
    {
     "name": "stdout",
     "output_type": "stream",
     "text": [
      "Computing spectrogram (w/ librosa) and tags (w/ tensorflow).. Computing spectrogram (w/ librosa) and tags (w/ tensorflow).. Computing spectrogram (w/ librosa) and tags (w/ tensorflow).. Computing spectrogram (w/ librosa) and tags (w/ tensorflow).. Computing spectrogram (w/ librosa) and tags (w/ tensorflow).. Computing spectrogram (w/ librosa) and tags (w/ tensorflow).. Computing spectrogram (w/ librosa) and tags (w/ tensorflow).. Computing spectrogram (w/ librosa) and tags (w/ tensorflow).. Computing spectrogram (w/ librosa) and tags (w/ tensorflow).. Computing spectrogram (w/ librosa) and tags (w/ tensorflow).. Computing spectrogram (w/ librosa) and tags (w/ tensorflow).. Computing spectrogram (w/ librosa) and tags (w/ tensorflow).. Computing spectrogram (w/ librosa) and tags (w/ tensorflow).. Computing spectrogram (w/ librosa) and tags (w/ tensorflow).. Computing spectrogram (w/ librosa) and tags (w/ tensorflow).. Computing spectrogram (w/ librosa) and tags (w/ tensorflow).. Computing spectrogram (w/ librosa) and tags (w/ tensorflow).. Computing spectrogram (w/ librosa) and tags (w/ tensorflow).. Computing spectrogram (w/ librosa) and tags (w/ tensorflow).. Computing spectrogram (w/ librosa) and tags (w/ tensorflow).. Computing spectrogram (w/ librosa) and tags (w/ tensorflow).. Computing spectrogram (w/ librosa) and tags (w/ tensorflow).. Computing spectrogram (w/ librosa) and tags (w/ tensorflow).. Computing spectrogram (w/ librosa) and tags (w/ tensorflow).. Computing spectrogram (w/ librosa) and tags (w/ tensorflow).. Computing spectrogram (w/ librosa) and tags (w/ tensorflow).. Computing spectrogram (w/ librosa) and tags (w/ tensorflow).. Computing spectrogram (w/ librosa) and tags (w/ tensorflow).. Computing spectrogram (w/ librosa) and tags (w/ tensorflow).. Computing spectrogram (w/ librosa) and tags (w/ tensorflow).. Computing spectrogram (w/ librosa) and tags (w/ tensorflow).. Computing spectrogram (w/ librosa) and tags (w/ tensorflow).. Computing spectrogram (w/ librosa) and tags (w/ tensorflow).. Computing spectrogram (w/ librosa) and tags (w/ tensorflow).. Computing spectrogram (w/ librosa) and tags (w/ tensorflow).. Computing spectrogram (w/ librosa) and tags (w/ tensorflow).. Computing spectrogram (w/ librosa) and tags (w/ tensorflow).. Computing spectrogram (w/ librosa) and tags (w/ tensorflow).. Computing spectrogram (w/ librosa) and tags (w/ tensorflow).. Computing spectrogram (w/ librosa) and tags (w/ tensorflow).. Computing spectrogram (w/ librosa) and tags (w/ tensorflow).. Computing spectrogram (w/ librosa) and tags (w/ tensorflow).. Computing spectrogram (w/ librosa) and tags (w/ tensorflow).. Computing spectrogram (w/ librosa) and tags (w/ tensorflow).. Computing spectrogram (w/ librosa) and tags (w/ tensorflow).. Computing spectrogram (w/ librosa) and tags (w/ tensorflow).. Computing spectrogram (w/ librosa) and tags (w/ tensorflow).. Computing spectrogram (w/ librosa) and tags (w/ tensorflow).. Computing spectrogram (w/ librosa) and tags (w/ tensorflow).. Computing spectrogram (w/ librosa) and tags (w/ tensorflow).. Computing spectrogram (w/ librosa) and tags (w/ tensorflow).. Computing spectrogram (w/ librosa) and tags (w/ tensorflow).. Computing spectrogram (w/ librosa) and tags (w/ tensorflow).. Computing spectrogram (w/ librosa) and tags (w/ tensorflow).. Computing spectrogram (w/ librosa) and tags (w/ tensorflow).. Computing spectrogram (w/ librosa) and tags (w/ tensorflow).. Computing spectrogram (w/ librosa) and tags (w/ tensorflow).. Computing spectrogram (w/ librosa) and tags (w/ tensorflow).. Computing spectrogram (w/ librosa) and tags (w/ tensorflow).. Computing spectrogram (w/ librosa) and tags (w/ tensorflow).. Computing spectrogram (w/ librosa) and tags (w/ tensorflow).. Computing spectrogram (w/ librosa) and tags (w/ tensorflow).. Computing spectrogram (w/ librosa) and tags (w/ tensorflow).. Computing spectrogram (w/ librosa) and tags (w/ tensorflow).. Computing spectrogram (w/ librosa) and tags (w/ tensorflow).. Computing spectrogram (w/ librosa) and tags (w/ tensorflow).. Computing spectrogram (w/ librosa) and tags (w/ tensorflow).. Computing spectrogram (w/ librosa) and tags (w/ tensorflow).. Computing spectrogram (w/ librosa) and tags (w/ tensorflow).. Computing spectrogram (w/ librosa) and tags (w/ tensorflow).. Computing spectrogram (w/ librosa) and tags (w/ tensorflow).. Computing spectrogram (w/ librosa) and tags (w/ tensorflow).. Computing spectrogram (w/ librosa) and tags (w/ tensorflow).. Computing spectrogram (w/ librosa) and tags (w/ tensorflow).. Computing spectrogram (w/ librosa) and tags (w/ tensorflow).. Computing spectrogram (w/ librosa) and tags (w/ tensorflow).. Computing spectrogram (w/ librosa) and tags (w/ tensorflow).. Computing spectrogram (w/ librosa) and tags (w/ tensorflow).. Computing spectrogram (w/ librosa) and tags (w/ tensorflow).. Computing spectrogram (w/ librosa) and tags (w/ tensorflow).. Computing spectrogram (w/ librosa) and tags (w/ tensorflow).. Computing spectrogram (w/ librosa) and tags (w/ tensorflow).. Computing spectrogram (w/ librosa) and tags (w/ tensorflow).. Computing spectrogram (w/ librosa) and tags (w/ tensorflow).. Computing spectrogram (w/ librosa) and tags (w/ tensorflow).. Computing spectrogram (w/ librosa) and tags (w/ tensorflow).. Computing spectrogram (w/ librosa) and tags (w/ tensorflow).. Computing spectrogram (w/ librosa) and tags (w/ tensorflow).. Computing spectrogram (w/ librosa) and tags (w/ tensorflow).. Computing spectrogram (w/ librosa) and tags (w/ tensorflow).. Computing spectrogram (w/ librosa) and tags (w/ tensorflow).. Computing spectrogram (w/ librosa) and tags (w/ tensorflow).. Computing spectrogram (w/ librosa) and tags (w/ tensorflow).. Computing spectrogram (w/ librosa) and tags (w/ tensorflow).. Computing spectrogram (w/ librosa) and tags (w/ tensorflow).. Computing spectrogram (w/ librosa) and tags (w/ tensorflow).. Computing spectrogram (w/ librosa) and tags (w/ tensorflow).. Computing spectrogram (w/ librosa) and tags (w/ tensorflow).. Computing spectrogram (w/ librosa) and tags (w/ tensorflow).. Computing spectrogram (w/ librosa) and tags (w/ tensorflow).. Computing spectrogram (w/ librosa) and tags (w/ tensorflow).. Computing spectrogram (w/ librosa) and tags (w/ tensorflow).. Computing spectrogram (w/ librosa) and tags (w/ tensorflow).. Computing spectrogram (w/ librosa) and tags (w/ tensorflow).. Computing spectrogram (w/ librosa) and tags (w/ tensorflow).. Computing spectrogram (w/ librosa) and tags (w/ tensorflow).. Computing spectrogram (w/ librosa) and tags (w/ tensorflow).. Computing spectrogram (w/ librosa) and tags (w/ tensorflow).. Computing spectrogram (w/ librosa) and tags (w/ tensorflow).. Computing spectrogram (w/ librosa) and tags (w/ tensorflow).. Computing spectrogram (w/ librosa) and tags (w/ tensorflow).. Computing spectrogram (w/ librosa) and tags (w/ tensorflow).. Computing spectrogram (w/ librosa) and tags (w/ tensorflow).. Computing spectrogram (w/ librosa) and tags (w/ tensorflow).. Computing spectrogram (w/ librosa) and tags (w/ tensorflow).. Computing spectrogram (w/ librosa) and tags (w/ tensorflow).. Computing spectrogram (w/ librosa) and tags (w/ tensorflow).. Computing spectrogram (w/ librosa) and tags (w/ tensorflow).. "
     ]
    },
    {
     "name": "stderr",
     "output_type": "stream",
     "text": [
      "/Users/lilhoodie/Libraries/anaconda3/envs/musicnn_env/lib/python3.10/site-packages/joblib/externals/loky/process_executor.py:782: UserWarning: A worker stopped while some jobs were given to the executor. This can be caused by a too short worker timeout or by a memory leak.\n",
      "  warnings.warn(\n"
     ]
    },
    {
     "name": "stdout",
     "output_type": "stream",
     "text": [
      "Computing spectrogram (w/ librosa) and tags (w/ tensorflow).. "
     ]
    },
    {
     "name": "stderr",
     "output_type": "stream",
     "text": [
      "/Users/lilhoodie/Libraries/anaconda3/envs/musicnn_env/lib/python3.10/site-packages/librosa/util/files.py:10: UserWarning: pkg_resources is deprecated as an API. See https://setuptools.pypa.io/en/latest/pkg_resources.html. The pkg_resources package is slated for removal as early as 2025-11-30. Refrain from using this package or pin to Setuptools<81.\n",
      "  from pkg_resources import resource_filename\n"
     ]
    },
    {
     "name": "stdout",
     "output_type": "stream",
     "text": [
      "Computing spectrogram (w/ librosa) and tags (w/ tensorflow).. "
     ]
    },
    {
     "name": "stderr",
     "output_type": "stream",
     "text": [
      "/Users/lilhoodie/Libraries/anaconda3/envs/musicnn_env/lib/python3.10/site-packages/librosa/util/files.py:10: UserWarning: pkg_resources is deprecated as an API. See https://setuptools.pypa.io/en/latest/pkg_resources.html. The pkg_resources package is slated for removal as early as 2025-11-30. Refrain from using this package or pin to Setuptools<81.\n",
      "  from pkg_resources import resource_filename\n"
     ]
    },
    {
     "name": "stdout",
     "output_type": "stream",
     "text": [
      "Computing spectrogram (w/ librosa) and tags (w/ tensorflow).. Computing spectrogram (w/ librosa) and tags (w/ tensorflow).. Computing spectrogram (w/ librosa) and tags (w/ tensorflow).. "
     ]
    },
    {
     "name": "stderr",
     "output_type": "stream",
     "text": [
      "WARNING:tensorflow:5 out of the last 5 calls to <function Model.make_predict_function.<locals>.predict_function at 0x174aa0670> triggered tf.function retracing. Tracing is expensive and the excessive number of tracings could be due to (1) creating @tf.function repeatedly in a loop, (2) passing tensors with different shapes, (3) passing Python objects instead of tensors. For (1), please define your @tf.function outside of the loop. For (2), @tf.function has reduce_retracing=True option that can avoid unnecessary retracing. For (3), please refer to https://www.tensorflow.org/guide/function#controlling_retracing and https://www.tensorflow.org/api_docs/python/tf/function for  more details.\n",
      "WARNING:tensorflow:6 out of the last 6 calls to <function Model.make_predict_function.<locals>.predict_function at 0x174aa0e50> triggered tf.function retracing. Tracing is expensive and the excessive number of tracings could be due to (1) creating @tf.function repeatedly in a loop, (2) passing tensors with different shapes, (3) passing Python objects instead of tensors. For (1), please define your @tf.function outside of the loop. For (2), @tf.function has reduce_retracing=True option that can avoid unnecessary retracing. For (3), please refer to https://www.tensorflow.org/guide/function#controlling_retracing and https://www.tensorflow.org/api_docs/python/tf/function for  more details.\n",
      "WARNING:tensorflow:5 out of the last 5 calls to <function Model.make_predict_function.<locals>.predict_function at 0x169bb4670> triggered tf.function retracing. Tracing is expensive and the excessive number of tracings could be due to (1) creating @tf.function repeatedly in a loop, (2) passing tensors with different shapes, (3) passing Python objects instead of tensors. For (1), please define your @tf.function outside of the loop. For (2), @tf.function has reduce_retracing=True option that can avoid unnecessary retracing. For (3), please refer to https://www.tensorflow.org/guide/function#controlling_retracing and https://www.tensorflow.org/api_docs/python/tf/function for  more details.\n"
     ]
    },
    {
     "name": "stdout",
     "output_type": "stream",
     "text": [
      "Computing spectrogram (w/ librosa) and tags (w/ tensorflow).. "
     ]
    },
    {
     "name": "stderr",
     "output_type": "stream",
     "text": [
      "WARNING:tensorflow:6 out of the last 6 calls to <function Model.make_predict_function.<locals>.predict_function at 0x169bb4e50> triggered tf.function retracing. Tracing is expensive and the excessive number of tracings could be due to (1) creating @tf.function repeatedly in a loop, (2) passing tensors with different shapes, (3) passing Python objects instead of tensors. For (1), please define your @tf.function outside of the loop. For (2), @tf.function has reduce_retracing=True option that can avoid unnecessary retracing. For (3), please refer to https://www.tensorflow.org/guide/function#controlling_retracing and https://www.tensorflow.org/api_docs/python/tf/function for  more details.\n"
     ]
    },
    {
     "name": "stdout",
     "output_type": "stream",
     "text": [
      "Computing spectrogram (w/ librosa) and tags (w/ tensorflow).. Computing spectrogram (w/ librosa) and tags (w/ tensorflow).. Computing spectrogram (w/ librosa) and tags (w/ tensorflow).. Computing spectrogram (w/ librosa) and tags (w/ tensorflow).. Computing spectrogram (w/ librosa) and tags (w/ tensorflow).. Computing spectrogram (w/ librosa) and tags (w/ tensorflow).. Computing spectrogram (w/ librosa) and tags (w/ tensorflow).. Computing spectrogram (w/ librosa) and tags (w/ tensorflow).. Computing spectrogram (w/ librosa) and tags (w/ tensorflow).. Computing spectrogram (w/ librosa) and tags (w/ tensorflow).. Computing spectrogram (w/ librosa) and tags (w/ tensorflow).. Computing spectrogram (w/ librosa) and tags (w/ tensorflow).. Computing spectrogram (w/ librosa) and tags (w/ tensorflow).. Computing spectrogram (w/ librosa) and tags (w/ tensorflow).. Computing spectrogram (w/ librosa) and tags (w/ tensorflow).. Computing spectrogram (w/ librosa) and tags (w/ tensorflow).. Computing spectrogram (w/ librosa) and tags (w/ tensorflow).. Computing spectrogram (w/ librosa) and tags (w/ tensorflow).. Computing spectrogram (w/ librosa) and tags (w/ tensorflow).. Computing spectrogram (w/ librosa) and tags (w/ tensorflow).. Computing spectrogram (w/ librosa) and tags (w/ tensorflow).. Computing spectrogram (w/ librosa) and tags (w/ tensorflow).. Computing spectrogram (w/ librosa) and tags (w/ tensorflow).. Computing spectrogram (w/ librosa) and tags (w/ tensorflow).. Computing spectrogram (w/ librosa) and tags (w/ tensorflow).. Computing spectrogram (w/ librosa) and tags (w/ tensorflow).. Computing spectrogram (w/ librosa) and tags (w/ tensorflow).. Computing spectrogram (w/ librosa) and tags (w/ tensorflow).. Computing spectrogram (w/ librosa) and tags (w/ tensorflow).. Computing spectrogram (w/ librosa) and tags (w/ tensorflow).. Computing spectrogram (w/ librosa) and tags (w/ tensorflow).. Computing spectrogram (w/ librosa) and tags (w/ tensorflow).. Computing spectrogram (w/ librosa) and tags (w/ tensorflow).. Computing spectrogram (w/ librosa) and tags (w/ tensorflow).. Computing spectrogram (w/ librosa) and tags (w/ tensorflow).. Computing spectrogram (w/ librosa) and tags (w/ tensorflow).. Computing spectrogram (w/ librosa) and tags (w/ tensorflow).. Computing spectrogram (w/ librosa) and tags (w/ tensorflow).. Computing spectrogram (w/ librosa) and tags (w/ tensorflow).. Computing spectrogram (w/ librosa) and tags (w/ tensorflow).. Computing spectrogram (w/ librosa) and tags (w/ tensorflow).. Computing spectrogram (w/ librosa) and tags (w/ tensorflow).. Computing spectrogram (w/ librosa) and tags (w/ tensorflow).. Computing spectrogram (w/ librosa) and tags (w/ tensorflow).. Computing spectrogram (w/ librosa) and tags (w/ tensorflow).. Computing spectrogram (w/ librosa) and tags (w/ tensorflow).. Computing spectrogram (w/ librosa) and tags (w/ tensorflow).. Computing spectrogram (w/ librosa) and tags (w/ tensorflow).. Computing spectrogram (w/ librosa) and tags (w/ tensorflow).. Computing spectrogram (w/ librosa) and tags (w/ tensorflow).. Computing spectrogram (w/ librosa) and tags (w/ tensorflow).. Computing spectrogram (w/ librosa) and tags (w/ tensorflow).. Computing spectrogram (w/ librosa) and tags (w/ tensorflow).. Computing spectrogram (w/ librosa) and tags (w/ tensorflow).. Computing spectrogram (w/ librosa) and tags (w/ tensorflow).. Computing spectrogram (w/ librosa) and tags (w/ tensorflow).. Computing spectrogram (w/ librosa) and tags (w/ tensorflow).. Computing spectrogram (w/ librosa) and tags (w/ tensorflow).. Computing spectrogram (w/ librosa) and tags (w/ tensorflow).. Computing spectrogram (w/ librosa) and tags (w/ tensorflow).. Computing spectrogram (w/ librosa) and tags (w/ tensorflow).. Computing spectrogram (w/ librosa) and tags (w/ tensorflow).. Computing spectrogram (w/ librosa) and tags (w/ tensorflow).. Computing spectrogram (w/ librosa) and tags (w/ tensorflow).. Computing spectrogram (w/ librosa) and tags (w/ tensorflow).. Computing spectrogram (w/ librosa) and tags (w/ tensorflow).. Computing spectrogram (w/ librosa) and tags (w/ tensorflow).. Computing spectrogram (w/ librosa) and tags (w/ tensorflow).. Computing spectrogram (w/ librosa) and tags (w/ tensorflow).. Computing spectrogram (w/ librosa) and tags (w/ tensorflow).. Computing spectrogram (w/ librosa) and tags (w/ tensorflow).. Computing spectrogram (w/ librosa) and tags (w/ tensorflow).. Computing spectrogram (w/ librosa) and tags (w/ tensorflow).. Computing spectrogram (w/ librosa) and tags (w/ tensorflow).. Computing spectrogram (w/ librosa) and tags (w/ tensorflow).. Computing spectrogram (w/ librosa) and tags (w/ tensorflow).. Computing spectrogram (w/ librosa) and tags (w/ tensorflow).. Computing spectrogram (w/ librosa) and tags (w/ tensorflow).. Computing spectrogram (w/ librosa) and tags (w/ tensorflow).. Computing spectrogram (w/ librosa) and tags (w/ tensorflow).. Computing spectrogram (w/ librosa) and tags (w/ tensorflow).. Computing spectrogram (w/ librosa) and tags (w/ tensorflow).. Computing spectrogram (w/ librosa) and tags (w/ tensorflow).. Computing spectrogram (w/ librosa) and tags (w/ tensorflow).. Computing spectrogram (w/ librosa) and tags (w/ tensorflow).. Computing spectrogram (w/ librosa) and tags (w/ tensorflow).. Computing spectrogram (w/ librosa) and tags (w/ tensorflow).. Computing spectrogram (w/ librosa) and tags (w/ tensorflow).. Computing spectrogram (w/ librosa) and tags (w/ tensorflow).. Computing spectrogram (w/ librosa) and tags (w/ tensorflow).. Computing spectrogram (w/ librosa) and tags (w/ tensorflow).. Computing spectrogram (w/ librosa) and tags (w/ tensorflow).. Computing spectrogram (w/ librosa) and tags (w/ tensorflow).. Computing spectrogram (w/ librosa) and tags (w/ tensorflow).. Computing spectrogram (w/ librosa) and tags (w/ tensorflow).. Computing spectrogram (w/ librosa) and tags (w/ tensorflow).. Computing spectrogram (w/ librosa) and tags (w/ tensorflow).. Computing spectrogram (w/ librosa) and tags (w/ tensorflow).. Computing spectrogram (w/ librosa) and tags (w/ tensorflow).. Computing spectrogram (w/ librosa) and tags (w/ tensorflow).. Computing spectrogram (w/ librosa) and tags (w/ tensorflow).. Computing spectrogram (w/ librosa) and tags (w/ tensorflow).. Computing spectrogram (w/ librosa) and tags (w/ tensorflow).. Computing spectrogram (w/ librosa) and tags (w/ tensorflow).. Computing spectrogram (w/ librosa) and tags (w/ tensorflow).. Computing spectrogram (w/ librosa) and tags (w/ tensorflow).. Computing spectrogram (w/ librosa) and tags (w/ tensorflow).. "
     ]
    },
    {
     "name": "stderr",
     "output_type": "stream",
     "text": []
    },
    {
     "name": "stdout",
     "output_type": "stream",
     "text": [
      "Computing spectrogram (w/ librosa) and tags (w/ tensorflow).. Computing spectrogram (w/ librosa) and tags (w/ tensorflow).. Computing spectrogram (w/ librosa) and tags (w/ tensorflow).. Computing spectrogram (w/ librosa) and tags (w/ tensorflow).. Computing spectrogram (w/ librosa) and tags (w/ tensorflow).. Computing spectrogram (w/ librosa) and tags (w/ tensorflow).. Computing spectrogram (w/ librosa) and tags (w/ tensorflow).. Computing spectrogram (w/ librosa) and tags (w/ tensorflow).. Computing spectrogram (w/ librosa) and tags (w/ tensorflow).. Computing spectrogram (w/ librosa) and tags (w/ tensorflow).. Computing spectrogram (w/ librosa) and tags (w/ tensorflow).. Computing spectrogram (w/ librosa) and tags (w/ tensorflow).. Computing spectrogram (w/ librosa) and tags (w/ tensorflow).. Computing spectrogram (w/ librosa) and tags (w/ tensorflow).. Computing spectrogram (w/ librosa) and tags (w/ tensorflow).. Computing spectrogram (w/ librosa) and tags (w/ tensorflow).. Computing spectrogram (w/ librosa) and tags (w/ tensorflow).. Computing spectrogram (w/ librosa) and tags (w/ tensorflow).. Computing spectrogram (w/ librosa) and tags (w/ tensorflow).. Computing spectrogram (w/ librosa) and tags (w/ tensorflow).. Computing spectrogram (w/ librosa) and tags (w/ tensorflow).. Computing spectrogram (w/ librosa) and tags (w/ tensorflow).. Computing spectrogram (w/ librosa) and tags (w/ tensorflow).. Computing spectrogram (w/ librosa) and tags (w/ tensorflow).. Computing spectrogram (w/ librosa) and tags (w/ tensorflow).. Computing spectrogram (w/ librosa) and tags (w/ tensorflow).. Computing spectrogram (w/ librosa) and tags (w/ tensorflow).. Computing spectrogram (w/ librosa) and tags (w/ tensorflow).. Computing spectrogram (w/ librosa) and tags (w/ tensorflow).. Computing spectrogram (w/ librosa) and tags (w/ tensorflow).. Computing spectrogram (w/ librosa) and tags (w/ tensorflow).. Computing spectrogram (w/ librosa) and tags (w/ tensorflow).. Computing spectrogram (w/ librosa) and tags (w/ tensorflow).. Computing spectrogram (w/ librosa) and tags (w/ tensorflow).. Computing spectrogram (w/ librosa) and tags (w/ tensorflow).. Computing spectrogram (w/ librosa) and tags (w/ tensorflow).. Computing spectrogram (w/ librosa) and tags (w/ tensorflow).. Computing spectrogram (w/ librosa) and tags (w/ tensorflow).. Computing spectrogram (w/ librosa) and tags (w/ tensorflow).. Computing spectrogram (w/ librosa) and tags (w/ tensorflow).. Computing spectrogram (w/ librosa) and tags (w/ tensorflow).. Computing spectrogram (w/ librosa) and tags (w/ tensorflow).. Computing spectrogram (w/ librosa) and tags (w/ tensorflow).. Computing spectrogram (w/ librosa) and tags (w/ tensorflow).. Computing spectrogram (w/ librosa) and tags (w/ tensorflow).. Computing spectrogram (w/ librosa) and tags (w/ tensorflow).. Computing spectrogram (w/ librosa) and tags (w/ tensorflow).. Computing spectrogram (w/ librosa) and tags (w/ tensorflow).. Computing spectrogram (w/ librosa) and tags (w/ tensorflow).. Computing spectrogram (w/ librosa) and tags (w/ tensorflow).. Computing spectrogram (w/ librosa) and tags (w/ tensorflow).. Computing spectrogram (w/ librosa) and tags (w/ tensorflow).. Computing spectrogram (w/ librosa) and tags (w/ tensorflow).. Computing spectrogram (w/ librosa) and tags (w/ tensorflow).. Computing spectrogram (w/ librosa) and tags (w/ tensorflow).. Computing spectrogram (w/ librosa) and tags (w/ tensorflow).. Computing spectrogram (w/ librosa) and tags (w/ tensorflow).. Computing spectrogram (w/ librosa) and tags (w/ tensorflow).. Computing spectrogram (w/ librosa) and tags (w/ tensorflow).. Computing spectrogram (w/ librosa) and tags (w/ tensorflow).. Computing spectrogram (w/ librosa) and tags (w/ tensorflow).. Computing spectrogram (w/ librosa) and tags (w/ tensorflow).. Computing spectrogram (w/ librosa) and tags (w/ tensorflow).. Computing spectrogram (w/ librosa) and tags (w/ tensorflow).. Computing spectrogram (w/ librosa) and tags (w/ tensorflow).. Computing spectrogram (w/ librosa) and tags (w/ tensorflow).. Computing spectrogram (w/ librosa) and tags (w/ tensorflow).. Computing spectrogram (w/ librosa) and tags (w/ tensorflow).. Computing spectrogram (w/ librosa) and tags (w/ tensorflow).. Computing spectrogram (w/ librosa) and tags (w/ tensorflow).. Computing spectrogram (w/ librosa) and tags (w/ tensorflow).. Computing spectrogram (w/ librosa) and tags (w/ tensorflow).. Computing spectrogram (w/ librosa) and tags (w/ tensorflow).. Computing spectrogram (w/ librosa) and tags (w/ tensorflow).. Computing spectrogram (w/ librosa) and tags (w/ tensorflow).. Computing spectrogram (w/ librosa) and tags (w/ tensorflow).. Computing spectrogram (w/ librosa) and tags (w/ tensorflow).. Computing spectrogram (w/ librosa) and tags (w/ tensorflow).. Computing spectrogram (w/ librosa) and tags (w/ tensorflow).. Computing spectrogram (w/ librosa) and tags (w/ tensorflow).. Computing spectrogram (w/ librosa) and tags (w/ tensorflow).. Computing spectrogram (w/ librosa) and tags (w/ tensorflow).. "
     ]
    },
    {
     "name": "stderr",
     "output_type": "stream",
     "text": [
      "/Users/lilhoodie/Libraries/anaconda3/envs/musicnn_env/lib/python3.10/site-packages/librosa/util/decorators.py:88: UserWarning: PySoundFile failed. Trying audioread instead.\n",
      "  return f(*args, **kwargs)\n",
      "/Users/lilhoodie/Libraries/anaconda3/envs/musicnn_env/lib/python3.10/site-packages/librosa/util/decorators.py:88: UserWarning: PySoundFile failed. Trying audioread instead.\n",
      "  return f(*args, **kwargs)\n",
      "Note: Illegal Audio-MPEG-Header 0x00000000 at offset 124.\n",
      "Note: Trying to resync...\n",
      "Note: Hit end of (available) data during resync.\n",
      "/Users/lilhoodie/Libraries/anaconda3/envs/musicnn_env/lib/python3.10/site-packages/librosa/util/decorators.py:88: UserWarning: PySoundFile failed. Trying audioread instead.\n",
      "  return f(*args, **kwargs)\n",
      "Note: Illegal Audio-MPEG-Header 0x00000000 at offset 124.\n",
      "Note: Trying to resync...\n",
      "Note: Hit end of (available) data during resync.\n",
      "/Users/lilhoodie/Libraries/anaconda3/envs/musicnn_env/lib/python3.10/site-packages/librosa/util/decorators.py:88: UserWarning: PySoundFile failed. Trying audioread instead.\n",
      "  return f(*args, **kwargs)\n"
     ]
    },
    {
     "name": "stdout",
     "output_type": "stream",
     "text": [
      "Computing spectrogram (w/ librosa) and tags (w/ tensorflow).. Computing spectrogram (w/ librosa) and tags (w/ tensorflow).. Computing spectrogram (w/ librosa) and tags (w/ tensorflow).. Computing spectrogram (w/ librosa) and tags (w/ tensorflow).. Computing spectrogram (w/ librosa) and tags (w/ tensorflow).. Computing spectrogram (w/ librosa) and tags (w/ tensorflow).. Computing spectrogram (w/ librosa) and tags (w/ tensorflow).. Computing spectrogram (w/ librosa) and tags (w/ tensorflow).. Computing spectrogram (w/ librosa) and tags (w/ tensorflow).. Computing spectrogram (w/ librosa) and tags (w/ tensorflow).. Computing spectrogram (w/ librosa) and tags (w/ tensorflow).. Computing spectrogram (w/ librosa) and tags (w/ tensorflow).. Computing spectrogram (w/ librosa) and tags (w/ tensorflow).. Computing spectrogram (w/ librosa) and tags (w/ tensorflow).. Computing spectrogram (w/ librosa) and tags (w/ tensorflow).. Computing spectrogram (w/ librosa) and tags (w/ tensorflow).. Computing spectrogram (w/ librosa) and tags (w/ tensorflow).. Computing spectrogram (w/ librosa) and tags (w/ tensorflow).. Computing spectrogram (w/ librosa) and tags (w/ tensorflow).. Computing spectrogram (w/ librosa) and tags (w/ tensorflow).. Computing spectrogram (w/ librosa) and tags (w/ tensorflow).. Computing spectrogram (w/ librosa) and tags (w/ tensorflow).. Computing spectrogram (w/ librosa) and tags (w/ tensorflow).. Computing spectrogram (w/ librosa) and tags (w/ tensorflow).. Computing spectrogram (w/ librosa) and tags (w/ tensorflow).. Computing spectrogram (w/ librosa) and tags (w/ tensorflow).. Computing spectrogram (w/ librosa) and tags (w/ tensorflow).. Computing spectrogram (w/ librosa) and tags (w/ tensorflow).. Computing spectrogram (w/ librosa) and tags (w/ tensorflow).. Computing spectrogram (w/ librosa) and tags (w/ tensorflow).. Computing spectrogram (w/ librosa) and tags (w/ tensorflow).. Computing spectrogram (w/ librosa) and tags (w/ tensorflow).. Computing spectrogram (w/ librosa) and tags (w/ tensorflow).. Computing spectrogram (w/ librosa) and tags (w/ tensorflow).. Computing spectrogram (w/ librosa) and tags (w/ tensorflow).. Computing spectrogram (w/ librosa) and tags (w/ tensorflow).. Computing spectrogram (w/ librosa) and tags (w/ tensorflow).. Computing spectrogram (w/ librosa) and tags (w/ tensorflow).. Computing spectrogram (w/ librosa) and tags (w/ tensorflow).. "
     ]
    },
    {
     "name": "stderr",
     "output_type": "stream",
     "text": []
    },
    {
     "name": "stdout",
     "output_type": "stream",
     "text": [
      "Computing spectrogram (w/ librosa) and tags (w/ tensorflow).. Computing spectrogram (w/ librosa) and tags (w/ tensorflow).. Computing spectrogram (w/ librosa) and tags (w/ tensorflow).. Computing spectrogram (w/ librosa) and tags (w/ tensorflow).. Computing spectrogram (w/ librosa) and tags (w/ tensorflow).. Computing spectrogram (w/ librosa) and tags (w/ tensorflow).. Computing spectrogram (w/ librosa) and tags (w/ tensorflow).. Computing spectrogram (w/ librosa) and tags (w/ tensorflow).. Computing spectrogram (w/ librosa) and tags (w/ tensorflow).. Computing spectrogram (w/ librosa) and tags (w/ tensorflow).. Computing spectrogram (w/ librosa) and tags (w/ tensorflow).. Computing spectrogram (w/ librosa) and tags (w/ tensorflow).. Computing spectrogram (w/ librosa) and tags (w/ tensorflow).. Computing spectrogram (w/ librosa) and tags (w/ tensorflow).. Computing spectrogram (w/ librosa) and tags (w/ tensorflow).. Computing spectrogram (w/ librosa) and tags (w/ tensorflow).. Computing spectrogram (w/ librosa) and tags (w/ tensorflow).. Computing spectrogram (w/ librosa) and tags (w/ tensorflow).. Computing spectrogram (w/ librosa) and tags (w/ tensorflow).. Computing spectrogram (w/ librosa) and tags (w/ tensorflow).. Computing spectrogram (w/ librosa) and tags (w/ tensorflow).. Computing spectrogram (w/ librosa) and tags (w/ tensorflow).. Computing spectrogram (w/ librosa) and tags (w/ tensorflow).. Computing spectrogram (w/ librosa) and tags (w/ tensorflow).. Computing spectrogram (w/ librosa) and tags (w/ tensorflow).. Computing spectrogram (w/ librosa) and tags (w/ tensorflow).. Computing spectrogram (w/ librosa) and tags (w/ tensorflow).. Computing spectrogram (w/ librosa) and tags (w/ tensorflow).. Computing spectrogram (w/ librosa) and tags (w/ tensorflow).. Computing spectrogram (w/ librosa) and tags (w/ tensorflow).. Computing spectrogram (w/ librosa) and tags (w/ tensorflow).. Computing spectrogram (w/ librosa) and tags (w/ tensorflow).. Computing spectrogram (w/ librosa) and tags (w/ tensorflow).. Computing spectrogram (w/ librosa) and tags (w/ tensorflow).. Computing spectrogram (w/ librosa) and tags (w/ tensorflow).. Computing spectrogram (w/ librosa) and tags (w/ tensorflow).. Computing spectrogram (w/ librosa) and tags (w/ tensorflow).. Computing spectrogram (w/ librosa) and tags (w/ tensorflow).. Computing spectrogram (w/ librosa) and tags (w/ tensorflow).. Computing spectrogram (w/ librosa) and tags (w/ tensorflow).. Computing spectrogram (w/ librosa) and tags (w/ tensorflow).. Computing spectrogram (w/ librosa) and tags (w/ tensorflow).. Computing spectrogram (w/ librosa) and tags (w/ tensorflow).. Computing spectrogram (w/ librosa) and tags (w/ tensorflow).. Computing spectrogram (w/ librosa) and tags (w/ tensorflow).. Computing spectrogram (w/ librosa) and tags (w/ tensorflow).. Computing spectrogram (w/ librosa) and tags (w/ tensorflow).. Computing spectrogram (w/ librosa) and tags (w/ tensorflow).. Computing spectrogram (w/ librosa) and tags (w/ tensorflow).. Computing spectrogram (w/ librosa) and tags (w/ tensorflow).. Computing spectrogram (w/ librosa) and tags (w/ tensorflow).. Computing spectrogram (w/ librosa) and tags (w/ tensorflow).. Computing spectrogram (w/ librosa) and tags (w/ tensorflow).. Computing spectrogram (w/ librosa) and tags (w/ tensorflow).. Computing spectrogram (w/ librosa) and tags (w/ tensorflow).. Computing spectrogram (w/ librosa) and tags (w/ tensorflow).. Computing spectrogram (w/ librosa) and tags (w/ tensorflow).. Computing spectrogram (w/ librosa) and tags (w/ tensorflow).. Computing spectrogram (w/ librosa) and tags (w/ tensorflow).. Computing spectrogram (w/ librosa) and tags (w/ tensorflow).. Computing spectrogram (w/ librosa) and tags (w/ tensorflow).. Computing spectrogram (w/ librosa) and tags (w/ tensorflow).. Computing spectrogram (w/ librosa) and tags (w/ tensorflow).. Computing spectrogram (w/ librosa) and tags (w/ tensorflow).. Computing spectrogram (w/ librosa) and tags (w/ tensorflow).. Computing spectrogram (w/ librosa) and tags (w/ tensorflow).. Computing spectrogram (w/ librosa) and tags (w/ tensorflow).. Computing spectrogram (w/ librosa) and tags (w/ tensorflow).. Computing spectrogram (w/ librosa) and tags (w/ tensorflow).. Computing spectrogram (w/ librosa) and tags (w/ tensorflow).. Computing spectrogram (w/ librosa) and tags (w/ tensorflow).. Computing spectrogram (w/ librosa) and tags (w/ tensorflow).. Computing spectrogram (w/ librosa) and tags (w/ tensorflow).. Computing spectrogram (w/ librosa) and tags (w/ tensorflow).. Computing spectrogram (w/ librosa) and tags (w/ tensorflow).. Computing spectrogram (w/ librosa) and tags (w/ tensorflow).. /Users/lilhoodie/Documents/Personal Projects/SongColor/DEAM/DEAM_audio/MEMD_audio/1539.mp3 errored\n",
      "/Users/lilhoodie/Documents/Personal Projects/SongColor/DEAM/DEAM_audio/MEMD_audio/456.mp3 errored\n",
      "Computing spectrogram (w/ librosa) and tags (w/ tensorflow).. Computing spectrogram (w/ librosa) and tags (w/ tensorflow).. Computing spectrogram (w/ librosa) and tags (w/ tensorflow).. Computing spectrogram (w/ librosa) and tags (w/ tensorflow).. Computing spectrogram (w/ librosa) and tags (w/ tensorflow).. Computing spectrogram (w/ librosa) and tags (w/ tensorflow).. Computing spectrogram (w/ librosa) and tags (w/ tensorflow).. Computing spectrogram (w/ librosa) and tags (w/ tensorflow).. Computing spectrogram (w/ librosa) and tags (w/ tensorflow).. Computing spectrogram (w/ librosa) and tags (w/ tensorflow).. Computing spectrogram (w/ librosa) and tags (w/ tensorflow).. Computing spectrogram (w/ librosa) and tags (w/ tensorflow).. Computing spectrogram (w/ librosa) and tags (w/ tensorflow).. Computing spectrogram (w/ librosa) and tags (w/ tensorflow).. Computing spectrogram (w/ librosa) and tags (w/ tensorflow).. Computing spectrogram (w/ librosa) and tags (w/ tensorflow).. Computing spectrogram (w/ librosa) and tags (w/ tensorflow).. Computing spectrogram (w/ librosa) and tags (w/ tensorflow).. Computing spectrogram (w/ librosa) and tags (w/ tensorflow).. Computing spectrogram (w/ librosa) and tags (w/ tensorflow).. Computing spectrogram (w/ librosa) and tags (w/ tensorflow).. Computing spectrogram (w/ librosa) and tags (w/ tensorflow).. Computing spectrogram (w/ librosa) and tags (w/ tensorflow).. Computing spectrogram (w/ librosa) and tags (w/ tensorflow).. Computing spectrogram (w/ librosa) and tags (w/ tensorflow).. Computing spectrogram (w/ librosa) and tags (w/ tensorflow).. Computing spectrogram (w/ librosa) and tags (w/ tensorflow).. Computing spectrogram (w/ librosa) and tags (w/ tensorflow).. Computing spectrogram (w/ librosa) and tags (w/ tensorflow).. Computing spectrogram (w/ librosa) and tags (w/ tensorflow).. Computing spectrogram (w/ librosa) and tags (w/ tensorflow).. Computing spectrogram (w/ librosa) and tags (w/ tensorflow).. Computing spectrogram (w/ librosa) and tags (w/ tensorflow).. Computing spectrogram (w/ librosa) and tags (w/ tensorflow).. Computing spectrogram (w/ librosa) and tags (w/ tensorflow).. Computing spectrogram (w/ librosa) and tags (w/ tensorflow).. Computing spectrogram (w/ librosa) and tags (w/ tensorflow).. Computing spectrogram (w/ librosa) and tags (w/ tensorflow).. Computing spectrogram (w/ librosa) and tags (w/ tensorflow).. Computing spectrogram (w/ librosa) and tags (w/ tensorflow).. Computing spectrogram (w/ librosa) and tags (w/ tensorflow).. Computing spectrogram (w/ librosa) and tags (w/ tensorflow).. Computing spectrogram (w/ librosa) and tags (w/ tensorflow).. Computing spectrogram (w/ librosa) and tags (w/ tensorflow).. Computing spectrogram (w/ librosa) and tags (w/ tensorflow).. Computing spectrogram (w/ librosa) and tags (w/ tensorflow).. Computing spectrogram (w/ librosa) and tags (w/ tensorflow).. Computing spectrogram (w/ librosa) and tags (w/ tensorflow).. Computing spectrogram (w/ librosa) and tags (w/ tensorflow).. Computing spectrogram (w/ librosa) and tags (w/ tensorflow).. Computing spectrogram (w/ librosa) and tags (w/ tensorflow).. Computing spectrogram (w/ librosa) and tags (w/ tensorflow).. Computing spectrogram (w/ librosa) and tags (w/ tensorflow).. Computing spectrogram (w/ librosa) and tags (w/ tensorflow).. Computing spectrogram (w/ librosa) and tags (w/ tensorflow).. Computing spectrogram (w/ librosa) and tags (w/ tensorflow).. Computing spectrogram (w/ librosa) and tags (w/ tensorflow).. Computing spectrogram (w/ librosa) and tags (w/ tensorflow).. Computing spectrogram (w/ librosa) and tags (w/ tensorflow).. Computing spectrogram (w/ librosa) and tags (w/ tensorflow).. Computing spectrogram (w/ librosa) and tags (w/ tensorflow).. Computing spectrogram (w/ librosa) and tags (w/ tensorflow).. Computing spectrogram (w/ librosa) and tags (w/ tensorflow).. Computing spectrogram (w/ librosa) and tags (w/ tensorflow).. Computing spectrogram (w/ librosa) and tags (w/ tensorflow).. Computing spectrogram (w/ librosa) and tags (w/ tensorflow).. Computing spectrogram (w/ librosa) and tags (w/ tensorflow).. Computing spectrogram (w/ librosa) and tags (w/ tensorflow).. Computing spectrogram (w/ librosa) and tags (w/ tensorflow).. Computing spectrogram (w/ librosa) and tags (w/ tensorflow).. Computing spectrogram (w/ librosa) and tags (w/ tensorflow).. "
     ]
    },
    {
     "name": "stderr",
     "output_type": "stream",
     "text": [
      "/Users/lilhoodie/Libraries/anaconda3/envs/musicnn_env/lib/python3.10/site-packages/librosa/util/files.py:10: UserWarning: pkg_resources is deprecated as an API. See https://setuptools.pypa.io/en/latest/pkg_resources.html. The pkg_resources package is slated for removal as early as 2025-11-30. Refrain from using this package or pin to Setuptools<81.\n",
      "  from pkg_resources import resource_filename\n"
     ]
    },
    {
     "name": "stdout",
     "output_type": "stream",
     "text": [
      "Computing spectrogram (w/ librosa) and tags (w/ tensorflow).. Computing spectrogram (w/ librosa) and tags (w/ tensorflow).. Computing spectrogram (w/ librosa) and tags (w/ tensorflow).. Computing spectrogram (w/ librosa) and tags (w/ tensorflow).. Computing spectrogram (w/ librosa) and tags (w/ tensorflow).. Computing spectrogram (w/ librosa) and tags (w/ tensorflow).. Computing spectrogram (w/ librosa) and tags (w/ tensorflow).. "
     ]
    },
    {
     "name": "stderr",
     "output_type": "stream",
     "text": [
      "WARNING:tensorflow:5 out of the last 5 calls to <function Model.make_predict_function.<locals>.predict_function at 0x174514670> triggered tf.function retracing. Tracing is expensive and the excessive number of tracings could be due to (1) creating @tf.function repeatedly in a loop, (2) passing tensors with different shapes, (3) passing Python objects instead of tensors. For (1), please define your @tf.function outside of the loop. For (2), @tf.function has reduce_retracing=True option that can avoid unnecessary retracing. For (3), please refer to https://www.tensorflow.org/guide/function#controlling_retracing and https://www.tensorflow.org/api_docs/python/tf/function for  more details.\n",
      "WARNING:tensorflow:6 out of the last 6 calls to <function Model.make_predict_function.<locals>.predict_function at 0x174514e50> triggered tf.function retracing. Tracing is expensive and the excessive number of tracings could be due to (1) creating @tf.function repeatedly in a loop, (2) passing tensors with different shapes, (3) passing Python objects instead of tensors. For (1), please define your @tf.function outside of the loop. For (2), @tf.function has reduce_retracing=True option that can avoid unnecessary retracing. For (3), please refer to https://www.tensorflow.org/guide/function#controlling_retracing and https://www.tensorflow.org/api_docs/python/tf/function for  more details.\n"
     ]
    },
    {
     "name": "stdout",
     "output_type": "stream",
     "text": [
      "Computing spectrogram (w/ librosa) and tags (w/ tensorflow).. Computing spectrogram (w/ librosa) and tags (w/ tensorflow).. Computing spectrogram (w/ librosa) and tags (w/ tensorflow).. "
     ]
    },
    {
     "name": "stderr",
     "output_type": "stream",
     "text": [
      "Note: Illegal Audio-MPEG-Header 0x00000000 at offset 124.\n",
      "Note: Trying to resync...\n",
      "Note: Hit end of (available) data during resync.\n",
      "Note: Illegal Audio-MPEG-Header 0x00000000 at offset 124.\n",
      "Note: Trying to resync...\n",
      "Note: Hit end of (available) data during resync.\n",
      "Note: Illegal Audio-MPEG-Header 0x00000000 at offset 124.\n",
      "Note: Trying to resync...\n",
      "Note: Hit end of (available) data during resync.\n",
      "/Users/lilhoodie/Libraries/anaconda3/envs/musicnn_env/lib/python3.10/site-packages/librosa/util/decorators.py:88: UserWarning: PySoundFile failed. Trying audioread instead.\n",
      "  return f(*args, **kwargs)\n"
     ]
    },
    {
     "name": "stdout",
     "output_type": "stream",
     "text": [
      "Computing spectrogram (w/ librosa) and tags (w/ tensorflow).. Computing spectrogram (w/ librosa) and tags (w/ tensorflow).. Computing spectrogram (w/ librosa) and tags (w/ tensorflow).. Computing spectrogram (w/ librosa) and tags (w/ tensorflow).. Computing spectrogram (w/ librosa) and tags (w/ tensorflow).. Computing spectrogram (w/ librosa) and tags (w/ tensorflow).. Computing spectrogram (w/ librosa) and tags (w/ tensorflow).. Computing spectrogram (w/ librosa) and tags (w/ tensorflow).. Computing spectrogram (w/ librosa) and tags (w/ tensorflow).. Computing spectrogram (w/ librosa) and tags (w/ tensorflow).. Computing spectrogram (w/ librosa) and tags (w/ tensorflow).. Computing spectrogram (w/ librosa) and tags (w/ tensorflow).. Computing spectrogram (w/ librosa) and tags (w/ tensorflow).. Computing spectrogram (w/ librosa) and tags (w/ tensorflow).. /Users/lilhoodie/Documents/Personal Projects/SongColor/DEAM/DEAM_audio/MEMD_audio/245.mp3 errored\n",
      "/Users/lilhoodie/Documents/Personal Projects/SongColor/DEAM/DEAM_audio/MEMD_audio/1854.mp3 errored\n",
      "/Users/lilhoodie/Documents/Personal Projects/SongColor/DEAM/DEAM_audio/MEMD_audio/1316.mp3 errored\n",
      "/Users/lilhoodie/Documents/Personal Projects/SongColor/DEAM/DEAM_audio/MEMD_audio/1504.mp3 errored\n",
      "Computing spectrogram (w/ librosa) and tags (w/ tensorflow).. Computing spectrogram (w/ librosa) and tags (w/ tensorflow).. Computing spectrogram (w/ librosa) and tags (w/ tensorflow).. Computing spectrogram (w/ librosa) and tags (w/ tensorflow).. Computing spectrogram (w/ librosa) and tags (w/ tensorflow).. Computing spectrogram (w/ librosa) and tags (w/ tensorflow).. Computing spectrogram (w/ librosa) and tags (w/ tensorflow).. Computing spectrogram (w/ librosa) and tags (w/ tensorflow).. Computing spectrogram (w/ librosa) and tags (w/ tensorflow).. Computing spectrogram (w/ librosa) and tags (w/ tensorflow).. Computing spectrogram (w/ librosa) and tags (w/ tensorflow).. Computing spectrogram (w/ librosa) and tags (w/ tensorflow).. Computing spectrogram (w/ librosa) and tags (w/ tensorflow).. Computing spectrogram (w/ librosa) and tags (w/ tensorflow).. Computing spectrogram (w/ librosa) and tags (w/ tensorflow).. Computing spectrogram (w/ librosa) and tags (w/ tensorflow).. Computing spectrogram (w/ librosa) and tags (w/ tensorflow).. Computing spectrogram (w/ librosa) and tags (w/ tensorflow).. Computing spectrogram (w/ librosa) and tags (w/ tensorflow).. Computing spectrogram (w/ librosa) and tags (w/ tensorflow).. Computing spectrogram (w/ librosa) and tags (w/ tensorflow).. Computing spectrogram (w/ librosa) and tags (w/ tensorflow).. Computing spectrogram (w/ librosa) and tags (w/ tensorflow).. Computing spectrogram (w/ librosa) and tags (w/ tensorflow).. Computing spectrogram (w/ librosa) and tags (w/ tensorflow).. Computing spectrogram (w/ librosa) and tags (w/ tensorflow).. Computing spectrogram (w/ librosa) and tags (w/ tensorflow).. Computing spectrogram (w/ librosa) and tags (w/ tensorflow).. Computing spectrogram (w/ librosa) and tags (w/ tensorflow).. Computing spectrogram (w/ librosa) and tags (w/ tensorflow).. Computing spectrogram (w/ librosa) and tags (w/ tensorflow).. Computing spectrogram (w/ librosa) and tags (w/ tensorflow).. Computing spectrogram (w/ librosa) and tags (w/ tensorflow).. Computing spectrogram (w/ librosa) and tags (w/ tensorflow).. Computing spectrogram (w/ librosa) and tags (w/ tensorflow).. Computing spectrogram (w/ librosa) and tags (w/ tensorflow).. Computing spectrogram (w/ librosa) and tags (w/ tensorflow).. Computing spectrogram (w/ librosa) and tags (w/ tensorflow).. Computing spectrogram (w/ librosa) and tags (w/ tensorflow).. Computing spectrogram (w/ librosa) and tags (w/ tensorflow).. Computing spectrogram (w/ librosa) and tags (w/ tensorflow).. Computing spectrogram (w/ librosa) and tags (w/ tensorflow).. Computing spectrogram (w/ librosa) and tags (w/ tensorflow).. Computing spectrogram (w/ librosa) and tags (w/ tensorflow).. Computing spectrogram (w/ librosa) and tags (w/ tensorflow).. Computing spectrogram (w/ librosa) and tags (w/ tensorflow).. Computing spectrogram (w/ librosa) and tags (w/ tensorflow).. Computing spectrogram (w/ librosa) and tags (w/ tensorflow).. Computing spectrogram (w/ librosa) and tags (w/ tensorflow).. Computing spectrogram (w/ librosa) and tags (w/ tensorflow).. Computing spectrogram (w/ librosa) and tags (w/ tensorflow).. Computing spectrogram (w/ librosa) and tags (w/ tensorflow).. Computing spectrogram (w/ librosa) and tags (w/ tensorflow).. Computing spectrogram (w/ librosa) and tags (w/ tensorflow).. Computing spectrogram (w/ librosa) and tags (w/ tensorflow).. Computing spectrogram (w/ librosa) and tags (w/ tensorflow).. Computing spectrogram (w/ librosa) and tags (w/ tensorflow).. Computing spectrogram (w/ librosa) and tags (w/ tensorflow).. Computing spectrogram (w/ librosa) and tags (w/ tensorflow).. Computing spectrogram (w/ librosa) and tags (w/ tensorflow).. Computing spectrogram (w/ librosa) and tags (w/ tensorflow).. Computing spectrogram (w/ librosa) and tags (w/ tensorflow).. Computing spectrogram (w/ librosa) and tags (w/ tensorflow).. Computing spectrogram (w/ librosa) and tags (w/ tensorflow).. Computing spectrogram (w/ librosa) and tags (w/ tensorflow).. Computing spectrogram (w/ librosa) and tags (w/ tensorflow).. Computing spectrogram (w/ librosa) and tags (w/ tensorflow).. Computing spectrogram (w/ librosa) and tags (w/ tensorflow).. Computing spectrogram (w/ librosa) and tags (w/ tensorflow).. Computing spectrogram (w/ librosa) and tags (w/ tensorflow).. Computing spectrogram (w/ librosa) and tags (w/ tensorflow).. Computing spectrogram (w/ librosa) and tags (w/ tensorflow).. Computing spectrogram (w/ librosa) and tags (w/ tensorflow).. Computing spectrogram (w/ librosa) and tags (w/ tensorflow).. Computing spectrogram (w/ librosa) and tags (w/ tensorflow).. Computing spectrogram (w/ librosa) and tags (w/ tensorflow).. Computing spectrogram (w/ librosa) and tags (w/ tensorflow).. Computing spectrogram (w/ librosa) and tags (w/ tensorflow).. Computing spectrogram (w/ librosa) and tags (w/ tensorflow).. Computing spectrogram (w/ librosa) and tags (w/ tensorflow).. Computing spectrogram (w/ librosa) and tags (w/ tensorflow).. Computing spectrogram (w/ librosa) and tags (w/ tensorflow).. Computing spectrogram (w/ librosa) and tags (w/ tensorflow).. Computing spectrogram (w/ librosa) and tags (w/ tensorflow).. Computing spectrogram (w/ librosa) and tags (w/ tensorflow).. Computing spectrogram (w/ librosa) and tags (w/ tensorflow).. Computing spectrogram (w/ librosa) and tags (w/ tensorflow).. Computing spectrogram (w/ librosa) and tags (w/ tensorflow).. Computing spectrogram (w/ librosa) and tags (w/ tensorflow).. Computing spectrogram (w/ librosa) and tags (w/ tensorflow).. Computing spectrogram (w/ librosa) and tags (w/ tensorflow).. Computing spectrogram (w/ librosa) and tags (w/ tensorflow).. Computing spectrogram (w/ librosa) and tags (w/ tensorflow).. Computing spectrogram (w/ librosa) and tags (w/ tensorflow).. Computing spectrogram (w/ librosa) and tags (w/ tensorflow).. Computing spectrogram (w/ librosa) and tags (w/ tensorflow).. Computing spectrogram (w/ librosa) and tags (w/ tensorflow).. Computing spectrogram (w/ librosa) and tags (w/ tensorflow).. Computing spectrogram (w/ librosa) and tags (w/ tensorflow).. Computing spectrogram (w/ librosa) and tags (w/ tensorflow).. Computing spectrogram (w/ librosa) and tags (w/ tensorflow).. Computing spectrogram (w/ librosa) and tags (w/ tensorflow).. Computing spectrogram (w/ librosa) and tags (w/ tensorflow).. Computing spectrogram (w/ librosa) and tags (w/ tensorflow).. Computing spectrogram (w/ librosa) and tags (w/ tensorflow).. Computing spectrogram (w/ librosa) and tags (w/ tensorflow).. Computing spectrogram (w/ librosa) and tags (w/ tensorflow).. Computing spectrogram (w/ librosa) and tags (w/ tensorflow).. Computing spectrogram (w/ librosa) and tags (w/ tensorflow).. Computing spectrogram (w/ librosa) and tags (w/ tensorflow).. Computing spectrogram (w/ librosa) and tags (w/ tensorflow).. Computing spectrogram (w/ librosa) and tags (w/ tensorflow).. Computing spectrogram (w/ librosa) and tags (w/ tensorflow).. Computing spectrogram (w/ librosa) and tags (w/ tensorflow).. Computing spectrogram (w/ librosa) and tags (w/ tensorflow).. Computing spectrogram (w/ librosa) and tags (w/ tensorflow).. Computing spectrogram (w/ librosa) and tags (w/ tensorflow).. Computing spectrogram (w/ librosa) and tags (w/ tensorflow).. Computing spectrogram (w/ librosa) and tags (w/ tensorflow).. "
     ]
    },
    {
     "name": "stderr",
     "output_type": "stream",
     "text": []
    },
    {
     "name": "stdout",
     "output_type": "stream",
     "text": [
      "Computing spectrogram (w/ librosa) and tags (w/ tensorflow).. Computing spectrogram (w/ librosa) and tags (w/ tensorflow).. Computing spectrogram (w/ librosa) and tags (w/ tensorflow).. Computing spectrogram (w/ librosa) and tags (w/ tensorflow).. Computing spectrogram (w/ librosa) and tags (w/ tensorflow).. Computing spectrogram (w/ librosa) and tags (w/ tensorflow).. Computing spectrogram (w/ librosa) and tags (w/ tensorflow).. Computing spectrogram (w/ librosa) and tags (w/ tensorflow).. Computing spectrogram (w/ librosa) and tags (w/ tensorflow).. Computing spectrogram (w/ librosa) and tags (w/ tensorflow).. Computing spectrogram (w/ librosa) and tags (w/ tensorflow).. Computing spectrogram (w/ librosa) and tags (w/ tensorflow).. Computing spectrogram (w/ librosa) and tags (w/ tensorflow).. Computing spectrogram (w/ librosa) and tags (w/ tensorflow).. Computing spectrogram (w/ librosa) and tags (w/ tensorflow).. Computing spectrogram (w/ librosa) and tags (w/ tensorflow).. Computing spectrogram (w/ librosa) and tags (w/ tensorflow).. Computing spectrogram (w/ librosa) and tags (w/ tensorflow).. Computing spectrogram (w/ librosa) and tags (w/ tensorflow).. Computing spectrogram (w/ librosa) and tags (w/ tensorflow).. Computing spectrogram (w/ librosa) and tags (w/ tensorflow).. Computing spectrogram (w/ librosa) and tags (w/ tensorflow).. Computing spectrogram (w/ librosa) and tags (w/ tensorflow).. Computing spectrogram (w/ librosa) and tags (w/ tensorflow).. Computing spectrogram (w/ librosa) and tags (w/ tensorflow).. Computing spectrogram (w/ librosa) and tags (w/ tensorflow).. Computing spectrogram (w/ librosa) and tags (w/ tensorflow).. Computing spectrogram (w/ librosa) and tags (w/ tensorflow).. Computing spectrogram (w/ librosa) and tags (w/ tensorflow).. Computing spectrogram (w/ librosa) and tags (w/ tensorflow).. Computing spectrogram (w/ librosa) and tags (w/ tensorflow).. Computing spectrogram (w/ librosa) and tags (w/ tensorflow).. Computing spectrogram (w/ librosa) and tags (w/ tensorflow).. Computing spectrogram (w/ librosa) and tags (w/ tensorflow).. "
     ]
    },
    {
     "name": "stderr",
     "output_type": "stream",
     "text": [
      "Note: Illegal Audio-MPEG-Header 0x00000000 at offset 124.\n",
      "Note: Trying to resync...\n",
      "Note: Hit end of (available) data during resync.\n"
     ]
    },
    {
     "name": "stdout",
     "output_type": "stream",
     "text": [
      "Computing spectrogram (w/ librosa) and tags (w/ tensorflow).. Computing spectrogram (w/ librosa) and tags (w/ tensorflow).. Computing spectrogram (w/ librosa) and tags (w/ tensorflow).. Computing spectrogram (w/ librosa) and tags (w/ tensorflow).. Computing spectrogram (w/ librosa) and tags (w/ tensorflow).. Computing spectrogram (w/ librosa) and tags (w/ tensorflow).. Computing spectrogram (w/ librosa) and tags (w/ tensorflow).. Computing spectrogram (w/ librosa) and tags (w/ tensorflow).. Computing spectrogram (w/ librosa) and tags (w/ tensorflow).. Computing spectrogram (w/ librosa) and tags (w/ tensorflow).. Computing spectrogram (w/ librosa) and tags (w/ tensorflow).. Computing spectrogram (w/ librosa) and tags (w/ tensorflow).. Computing spectrogram (w/ librosa) and tags (w/ tensorflow).. Computing spectrogram (w/ librosa) and tags (w/ tensorflow).. Computing spectrogram (w/ librosa) and tags (w/ tensorflow).. Computing spectrogram (w/ librosa) and tags (w/ tensorflow).. Computing spectrogram (w/ librosa) and tags (w/ tensorflow).. Computing spectrogram (w/ librosa) and tags (w/ tensorflow).. Computing spectrogram (w/ librosa) and tags (w/ tensorflow).. Computing spectrogram (w/ librosa) and tags (w/ tensorflow).. Computing spectrogram (w/ librosa) and tags (w/ tensorflow).. Computing spectrogram (w/ librosa) and tags (w/ tensorflow).. Computing spectrogram (w/ librosa) and tags (w/ tensorflow).. Computing spectrogram (w/ librosa) and tags (w/ tensorflow).. Computing spectrogram (w/ librosa) and tags (w/ tensorflow).. Computing spectrogram (w/ librosa) and tags (w/ tensorflow).. Computing spectrogram (w/ librosa) and tags (w/ tensorflow).. Computing spectrogram (w/ librosa) and tags (w/ tensorflow).. Computing spectrogram (w/ librosa) and tags (w/ tensorflow).. Computing spectrogram (w/ librosa) and tags (w/ tensorflow).. Computing spectrogram (w/ librosa) and tags (w/ tensorflow).. Computing spectrogram (w/ librosa) and tags (w/ tensorflow).. Computing spectrogram (w/ librosa) and tags (w/ tensorflow).. Computing spectrogram (w/ librosa) and tags (w/ tensorflow).. Computing spectrogram (w/ librosa) and tags (w/ tensorflow).. Computing spectrogram (w/ librosa) and tags (w/ tensorflow).. Computing spectrogram (w/ librosa) and tags (w/ tensorflow).. Computing spectrogram (w/ librosa) and tags (w/ tensorflow).. Computing spectrogram (w/ librosa) and tags (w/ tensorflow).. Computing spectrogram (w/ librosa) and tags (w/ tensorflow).. Computing spectrogram (w/ librosa) and tags (w/ tensorflow).. Computing spectrogram (w/ librosa) and tags (w/ tensorflow).. Computing spectrogram (w/ librosa) and tags (w/ tensorflow).. Computing spectrogram (w/ librosa) and tags (w/ tensorflow).. Computing spectrogram (w/ librosa) and tags (w/ tensorflow).. Computing spectrogram (w/ librosa) and tags (w/ tensorflow).. Computing spectrogram (w/ librosa) and tags (w/ tensorflow).. Computing spectrogram (w/ librosa) and tags (w/ tensorflow).. Computing spectrogram (w/ librosa) and tags (w/ tensorflow).. Computing spectrogram (w/ librosa) and tags (w/ tensorflow).. Computing spectrogram (w/ librosa) and tags (w/ tensorflow).. Computing spectrogram (w/ librosa) and tags (w/ tensorflow).. Computing spectrogram (w/ librosa) and tags (w/ tensorflow).. Computing spectrogram (w/ librosa) and tags (w/ tensorflow).. Computing spectrogram (w/ librosa) and tags (w/ tensorflow).. Computing spectrogram (w/ librosa) and tags (w/ tensorflow).. Computing spectrogram (w/ librosa) and tags (w/ tensorflow).. Computing spectrogram (w/ librosa) and tags (w/ tensorflow).. Computing spectrogram (w/ librosa) and tags (w/ tensorflow).. Computing spectrogram (w/ librosa) and tags (w/ tensorflow).. Computing spectrogram (w/ librosa) and tags (w/ tensorflow).. Computing spectrogram (w/ librosa) and tags (w/ tensorflow).. Computing spectrogram (w/ librosa) and tags (w/ tensorflow).. "
     ]
    },
    {
     "ename": "KeyboardInterrupt",
     "evalue": "",
     "output_type": "error",
     "traceback": [
      "\u001b[0;31m---------------------------------------------------------------------------\u001b[0m",
      "\u001b[0;31mKeyboardInterrupt\u001b[0m                         Traceback (most recent call last)",
      "Cell \u001b[0;32mIn[50], line 20\u001b[0m\n\u001b[1;32m     15\u001b[0m             results\u001b[38;5;241m.\u001b[39mappend({\u001b[38;5;124m'\u001b[39m\u001b[38;5;124mfilename\u001b[39m\u001b[38;5;124m'\u001b[39m: file, \u001b[38;5;124m'\u001b[39m\u001b[38;5;124merror\u001b[39m\u001b[38;5;124m'\u001b[39m: \u001b[38;5;28mstr\u001b[39m(e)})\n\u001b[1;32m     17\u001b[0m     \u001b[38;5;28;01mreturn\u001b[39;00m results\n\u001b[0;32m---> 20\u001b[0m full_rows \u001b[38;5;241m=\u001b[39m \u001b[43mParallel\u001b[49m\u001b[43m(\u001b[49m\u001b[43mn_jobs\u001b[49m\u001b[38;5;241;43m=\u001b[39;49m\u001b[38;5;241;43m4\u001b[39;49m\u001b[43m)\u001b[49m\u001b[43m(\u001b[49m\n\u001b[1;32m     21\u001b[0m \u001b[43m    \u001b[49m\u001b[43mdelayed\u001b[49m\u001b[43m(\u001b[49m\u001b[43mbatch_compute\u001b[49m\u001b[43m)\u001b[49m\u001b[43m(\u001b[49m\u001b[43mbatch\u001b[49m\u001b[43m)\u001b[49m\u001b[43m \u001b[49m\u001b[38;5;28;43;01mfor\u001b[39;49;00m\u001b[43m \u001b[49m\u001b[43mbatch\u001b[49m\u001b[43m \u001b[49m\u001b[38;5;129;43;01min\u001b[39;49;00m\u001b[43m \u001b[49m\u001b[43mtqdm\u001b[49m\u001b[43m(\u001b[49m\u001b[43mbatches\u001b[49m\u001b[43m)\u001b[49m\u001b[43m)\u001b[49m\n\u001b[1;32m     23\u001b[0m full_rows \u001b[38;5;241m=\u001b[39m [file \u001b[38;5;28;01mfor\u001b[39;00m sublist \u001b[38;5;129;01min\u001b[39;00m full_rows \u001b[38;5;28;01mfor\u001b[39;00m file \u001b[38;5;129;01min\u001b[39;00m sublist]\n\u001b[1;32m     24\u001b[0m musicnn_df \u001b[38;5;241m=\u001b[39m pd\u001b[38;5;241m.\u001b[39mDataFrame(full_rows)\n",
      "File \u001b[0;32m~/Libraries/anaconda3/envs/musicnn_env/lib/python3.10/site-packages/joblib/parallel.py:2072\u001b[0m, in \u001b[0;36mParallel.__call__\u001b[0;34m(self, iterable)\u001b[0m\n\u001b[1;32m   2066\u001b[0m \u001b[38;5;66;03m# The first item from the output is blank, but it makes the interpreter\u001b[39;00m\n\u001b[1;32m   2067\u001b[0m \u001b[38;5;66;03m# progress until it enters the Try/Except block of the generator and\u001b[39;00m\n\u001b[1;32m   2068\u001b[0m \u001b[38;5;66;03m# reaches the first `yield` statement. This starts the asynchronous\u001b[39;00m\n\u001b[1;32m   2069\u001b[0m \u001b[38;5;66;03m# dispatch of the tasks to the workers.\u001b[39;00m\n\u001b[1;32m   2070\u001b[0m \u001b[38;5;28mnext\u001b[39m(output)\n\u001b[0;32m-> 2072\u001b[0m \u001b[38;5;28;01mreturn\u001b[39;00m output \u001b[38;5;28;01mif\u001b[39;00m \u001b[38;5;28mself\u001b[39m\u001b[38;5;241m.\u001b[39mreturn_generator \u001b[38;5;28;01melse\u001b[39;00m \u001b[38;5;28;43mlist\u001b[39;49m\u001b[43m(\u001b[49m\u001b[43moutput\u001b[49m\u001b[43m)\u001b[49m\n",
      "File \u001b[0;32m~/Libraries/anaconda3/envs/musicnn_env/lib/python3.10/site-packages/joblib/parallel.py:1682\u001b[0m, in \u001b[0;36mParallel._get_outputs\u001b[0;34m(self, iterator, pre_dispatch)\u001b[0m\n\u001b[1;32m   1679\u001b[0m     \u001b[38;5;28;01myield\u001b[39;00m\n\u001b[1;32m   1681\u001b[0m     \u001b[38;5;28;01mwith\u001b[39;00m \u001b[38;5;28mself\u001b[39m\u001b[38;5;241m.\u001b[39m_backend\u001b[38;5;241m.\u001b[39mretrieval_context():\n\u001b[0;32m-> 1682\u001b[0m         \u001b[38;5;28;01myield from\u001b[39;00m \u001b[38;5;28mself\u001b[39m\u001b[38;5;241m.\u001b[39m_retrieve()\n\u001b[1;32m   1684\u001b[0m \u001b[38;5;28;01mexcept\u001b[39;00m \u001b[38;5;167;01mGeneratorExit\u001b[39;00m:\n\u001b[1;32m   1685\u001b[0m     \u001b[38;5;66;03m# The generator has been garbage collected before being fully\u001b[39;00m\n\u001b[1;32m   1686\u001b[0m     \u001b[38;5;66;03m# consumed. This aborts the remaining tasks if possible and warn\u001b[39;00m\n\u001b[1;32m   1687\u001b[0m     \u001b[38;5;66;03m# the user if necessary.\u001b[39;00m\n\u001b[1;32m   1688\u001b[0m     \u001b[38;5;28mself\u001b[39m\u001b[38;5;241m.\u001b[39m_exception \u001b[38;5;241m=\u001b[39m \u001b[38;5;28;01mTrue\u001b[39;00m\n",
      "File \u001b[0;32m~/Libraries/anaconda3/envs/musicnn_env/lib/python3.10/site-packages/joblib/parallel.py:1800\u001b[0m, in \u001b[0;36mParallel._retrieve\u001b[0;34m(self)\u001b[0m\n\u001b[1;32m   1789\u001b[0m \u001b[38;5;28;01mif\u001b[39;00m \u001b[38;5;28mself\u001b[39m\u001b[38;5;241m.\u001b[39mreturn_ordered:\n\u001b[1;32m   1790\u001b[0m     \u001b[38;5;66;03m# Case ordered: wait for completion (or error) of the next job\u001b[39;00m\n\u001b[1;32m   1791\u001b[0m     \u001b[38;5;66;03m# that have been dispatched and not retrieved yet. If no job\u001b[39;00m\n\u001b[0;32m   (...)\u001b[0m\n\u001b[1;32m   1795\u001b[0m     \u001b[38;5;66;03m# control only have to be done on the amount of time the next\u001b[39;00m\n\u001b[1;32m   1796\u001b[0m     \u001b[38;5;66;03m# dispatched job is pending.\u001b[39;00m\n\u001b[1;32m   1797\u001b[0m     \u001b[38;5;28;01mif\u001b[39;00m (nb_jobs \u001b[38;5;241m==\u001b[39m \u001b[38;5;241m0\u001b[39m) \u001b[38;5;129;01mor\u001b[39;00m (\n\u001b[1;32m   1798\u001b[0m         \u001b[38;5;28mself\u001b[39m\u001b[38;5;241m.\u001b[39m_jobs[\u001b[38;5;241m0\u001b[39m]\u001b[38;5;241m.\u001b[39mget_status(timeout\u001b[38;5;241m=\u001b[39m\u001b[38;5;28mself\u001b[39m\u001b[38;5;241m.\u001b[39mtimeout) \u001b[38;5;241m==\u001b[39m TASK_PENDING\n\u001b[1;32m   1799\u001b[0m     ):\n\u001b[0;32m-> 1800\u001b[0m         \u001b[43mtime\u001b[49m\u001b[38;5;241;43m.\u001b[39;49m\u001b[43msleep\u001b[49m\u001b[43m(\u001b[49m\u001b[38;5;241;43m0.01\u001b[39;49m\u001b[43m)\u001b[49m\n\u001b[1;32m   1801\u001b[0m         \u001b[38;5;28;01mcontinue\u001b[39;00m\n\u001b[1;32m   1803\u001b[0m \u001b[38;5;28;01melif\u001b[39;00m nb_jobs \u001b[38;5;241m==\u001b[39m \u001b[38;5;241m0\u001b[39m:\n\u001b[1;32m   1804\u001b[0m     \u001b[38;5;66;03m# Case unordered: jobs are added to the list of jobs to\u001b[39;00m\n\u001b[1;32m   1805\u001b[0m     \u001b[38;5;66;03m# retrieve `self._jobs` only once completed or in error, which\u001b[39;00m\n\u001b[0;32m   (...)\u001b[0m\n\u001b[1;32m   1811\u001b[0m     \u001b[38;5;66;03m# timeouts before any other dispatched job has completed and\u001b[39;00m\n\u001b[1;32m   1812\u001b[0m     \u001b[38;5;66;03m# been added to `self._jobs` to be retrieved.\u001b[39;00m\n",
      "\u001b[0;31mKeyboardInterrupt\u001b[0m: "
     ]
    }
   ],
   "source": [
    "def batch_compute(files):\n",
    "    results = []\n",
    "    for file in files:\n",
    "        try:\n",
    "            taggram, tags, features = get_embedding_musicnn(file)\n",
    "            results.append({\n",
    "                'filename': file,\n",
    "                'taggram': taggram,\n",
    "                'tags': tags,\n",
    "                'features': features,\n",
    "                # 'embeddings': features['penultimate']\n",
    "            })\n",
    "        except Exception as e:\n",
    "            print(f'{file} errored')\n",
    "            results.append({'filename': file, 'error': str(e)})\n",
    "       \n",
    "    return results\n",
    "    \n",
    "\n",
    "full_rows = Parallel(n_jobs=4)(\n",
    "    delayed(batch_compute)(batch) for batch in tqdm(batches))\n",
    "\n",
    "full_rows = [file for sublist in full_rows for file in sublist]\n",
    "musicnn_df = pd.DataFrame(full_rows)"
   ]
  },
  {
   "cell_type": "markdown",
   "id": "19cc1858",
   "metadata": {},
   "source": [
    "# MODEL IMPLEMENTATION"
   ]
  },
  {
   "cell_type": "code",
   "execution_count": null,
   "id": "f8d35c93",
   "metadata": {},
   "outputs": [],
   "source": [
    "rnn_model = keras.Sequential()\n",
    "rnn_model.add(layers.Dense(100))\n",
    "rnn_model.add(layers.SimpleRNN)\n",
    "rnn_model.add(layers.Dense(100))"
   ]
  },
  {
   "cell_type": "markdown",
   "id": "87f372ae",
   "metadata": {},
   "source": [
    "# POST TRAINING IMPLEMENTATION"
   ]
  },
  {
   "cell_type": "code",
   "execution_count": null,
   "id": "f033493b",
   "metadata": {},
   "outputs": [],
   "source": [
    "def get_embedding_musicnn(song, artist):\n",
    "    query = song + \" \" + artist\n",
    "    # print(query)\n",
    "    url = f\"https://itunes.apple.com/search?term={query}&media=music&entity=musicTrack\"\n",
    "\n",
    "    response = requests.get(url)\n",
    "    data = response.json()\n",
    "    preview_url = data['results'][0]['previewUrl']\n",
    "    # print(\"Preview URL:\", preview_url)\n",
    "\n",
    "    audio = requests.get(preview_url)\n",
    "    filename = \"../song_clips/\"+query + \"_preview.wav\"\n",
    "\n",
    "    with open(filename, \"wb\") as f:\n",
    "        f.write(audio.content)\n",
    "\n",
    "    song = AudioSegment.from_file(filename)\n",
    "    song.export(filename, format=\"wav\")\n",
    "\n",
    "    taggram, tags, features = extractor(filename, model='MTT_musicnn', extract_features = True)\n",
    "    # print(list(features.keys()))  \n",
    "    return features['penultimate']\n",
    "    "
   ]
  },
  {
   "cell_type": "code",
   "execution_count": 5,
   "id": "0b39c69d",
   "metadata": {},
   "outputs": [
    {
     "name": "stdout",
     "output_type": "stream",
     "text": [
      "Computing spectrogram (w/ librosa) and tags (w/ tensorflow).. WARNING:tensorflow:5 out of the last 5 calls to <function Model.make_predict_function.<locals>.predict_function at 0x317639900> triggered tf.function retracing. Tracing is expensive and the excessive number of tracings could be due to (1) creating @tf.function repeatedly in a loop, (2) passing tensors with different shapes, (3) passing Python objects instead of tensors. For (1), please define your @tf.function outside of the loop. For (2), @tf.function has reduce_retracing=True option that can avoid unnecessary retracing. For (3), please refer to https://www.tensorflow.org/guide/function#controlling_retracing and https://www.tensorflow.org/api_docs/python/tf/function for  more details.\n",
      "WARNING:tensorflow:6 out of the last 6 calls to <function Model.make_predict_function.<locals>.predict_function at 0x3176383a0> triggered tf.function retracing. Tracing is expensive and the excessive number of tracings could be due to (1) creating @tf.function repeatedly in a loop, (2) passing tensors with different shapes, (3) passing Python objects instead of tensors. For (1), please define your @tf.function outside of the loop. For (2), @tf.function has reduce_retracing=True option that can avoid unnecessary retracing. For (3), please refer to https://www.tensorflow.org/guide/function#controlling_retracing and https://www.tensorflow.org/api_docs/python/tf/function for  more details.\n",
      "[[-0.07995161  0.19350356  2.0262744  ... -0.02580383  0.87304586\n",
      "   1.3869632 ]\n",
      " [-0.07995161  0.20222324  1.4454312  ... -0.02580383  0.60905164\n",
      "   0.9412708 ]\n",
      " [-0.07995161  0.4415718   2.785294   ... -0.02580383  0.810291\n",
      "   1.4257473 ]\n",
      " ...\n",
      " [-0.07995161  0.42684358  2.398123   ... -0.02580383  0.42419207\n",
      "   1.2276382 ]\n",
      " [-0.07995161  0.6095886   2.1492877  ... -0.02580383  0.48727006\n",
      "   0.33265856]\n",
      " [ 0.10184264  1.0896566   2.4472985  ... -0.02580383  1.0518024\n",
      "   0.69155574]]\n"
     ]
    }
   ],
   "source": [
    "print(get_embedding_musicnn('heart of a woman', 'summer walker'))"
   ]
  }
 ],
 "metadata": {
  "kernelspec": {
   "display_name": "musicnn_env",
   "language": "python",
   "name": "python3"
  },
  "language_info": {
   "codemirror_mode": {
    "name": "ipython",
    "version": 3
   },
   "file_extension": ".py",
   "mimetype": "text/x-python",
   "name": "python",
   "nbconvert_exporter": "python",
   "pygments_lexer": "ipython3",
   "version": "3.10.18"
  }
 },
 "nbformat": 4,
 "nbformat_minor": 5
}
